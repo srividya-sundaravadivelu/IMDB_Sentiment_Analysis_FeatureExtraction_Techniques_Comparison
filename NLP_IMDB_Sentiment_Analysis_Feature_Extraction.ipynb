{
  "nbformat": 4,
  "nbformat_minor": 0,
  "metadata": {
    "colab": {
      "name": "NLP_IMDB_Sentiment_Analysis_Feature_Extraction.ipynb",
      "provenance": [],
      "collapsed_sections": []
    },
    "kernelspec": {
      "name": "python3",
      "display_name": "Python 3"
    },
    "language_info": {
      "name": "python"
    }
  },
  "cells": [
    {
      "cell_type": "markdown",
      "source": [
        "# IMDB Dataset - Sentiment Analysis."
      ],
      "metadata": {
        "id": "o-KmfKB9k8_Y"
      }
    },
    {
      "cell_type": "markdown",
      "source": [
        "Implement different feature engineering techniques:\n",
        "\n",
        "    1. Count Vectorizer\n",
        "    2. Count Vectorizer - Binary = True\n",
        "    3. Count Vectorizer - n-gram range (1,2)\n",
        "    4. Count Vectorizer - n-gram range (1,3)\n",
        "    5. Count Vectorizer - n-gram range (2,3)\n",
        "    6. Tf-idf Vectorizer\n",
        "    7. Tf-idf Vectorizer - n-gram range (1,2)\n",
        "    8. Tf-idf Vectorizer - n-gram range (1,3)\n",
        "    9. Tf-idf Vectorizer - n-gram range (2,3)\n",
        "\n",
        "\n",
        "\n"
      ],
      "metadata": {
        "id": "jTanISmGOh6Y"
      }
    },
    {
      "cell_type": "markdown",
      "source": [
        "## Importing Namespaces"
      ],
      "metadata": {
        "id": "odjykGyZk9C3"
      }
    },
    {
      "cell_type": "code",
      "source": [
        "import pandas as pd\n",
        "import matplotlib.pyplot as plt\n",
        "import seaborn as sns\n",
        "from collections import Counter\n",
        "import re\n",
        "import string\n",
        "import nltk\n",
        "from sklearn.svm import LinearSVC\n",
        "\n",
        "from nltk.corpus import stopwords\n",
        "from sklearn.metrics import accuracy_score\n",
        "nltk.download('stopwords')\n",
        "from sklearn.feature_extraction.text import CountVectorizer\n",
        "from sklearn.feature_extraction.text import TfidfVectorizer"
      ],
      "metadata": {
        "colab": {
          "base_uri": "https://localhost:8080/"
        },
        "id": "KI5jcHxGk-aq",
        "outputId": "181e1f15-2ec2-4038-fa6c-be02e0a8775e"
      },
      "execution_count": 1,
      "outputs": [
        {
          "output_type": "stream",
          "name": "stdout",
          "text": [
            "[nltk_data] Downloading package stopwords to /root/nltk_data...\n",
            "[nltk_data]   Unzipping corpora/stopwords.zip.\n"
          ]
        }
      ]
    },
    {
      "cell_type": "markdown",
      "source": [
        "## Load the imdb Dataset"
      ],
      "metadata": {
        "id": "4YjfFf83lMtw"
      }
    },
    {
      "cell_type": "code",
      "source": [
        "df = pd.read_csv('/content/IMDB Dataset.csv')"
      ],
      "metadata": {
        "id": "XcwSN0Yev8rJ"
      },
      "execution_count": 2,
      "outputs": []
    },
    {
      "cell_type": "code",
      "source": [
        "df.head()"
      ],
      "metadata": {
        "id": "V648efmEwDck",
        "colab": {
          "base_uri": "https://localhost:8080/",
          "height": 206
        },
        "outputId": "cc333fa9-6783-4264-ac27-d41b9da11c0f"
      },
      "execution_count": 3,
      "outputs": [
        {
          "output_type": "execute_result",
          "data": {
            "text/plain": [
              "                                              review sentiment\n",
              "0  One of the other reviewers has mentioned that ...  positive\n",
              "1  A wonderful little production. <br /><br />The...  positive\n",
              "2  I thought this was a wonderful way to spend ti...  positive\n",
              "3  Basically there's a family where a little boy ...  negative\n",
              "4  Petter Mattei's \"Love in the Time of Money\" is...  positive"
            ],
            "text/html": [
              "\n",
              "  <div id=\"df-5750bf7d-db16-43cc-85d6-413b6825ba88\">\n",
              "    <div class=\"colab-df-container\">\n",
              "      <div>\n",
              "<style scoped>\n",
              "    .dataframe tbody tr th:only-of-type {\n",
              "        vertical-align: middle;\n",
              "    }\n",
              "\n",
              "    .dataframe tbody tr th {\n",
              "        vertical-align: top;\n",
              "    }\n",
              "\n",
              "    .dataframe thead th {\n",
              "        text-align: right;\n",
              "    }\n",
              "</style>\n",
              "<table border=\"1\" class=\"dataframe\">\n",
              "  <thead>\n",
              "    <tr style=\"text-align: right;\">\n",
              "      <th></th>\n",
              "      <th>review</th>\n",
              "      <th>sentiment</th>\n",
              "    </tr>\n",
              "  </thead>\n",
              "  <tbody>\n",
              "    <tr>\n",
              "      <th>0</th>\n",
              "      <td>One of the other reviewers has mentioned that ...</td>\n",
              "      <td>positive</td>\n",
              "    </tr>\n",
              "    <tr>\n",
              "      <th>1</th>\n",
              "      <td>A wonderful little production. &lt;br /&gt;&lt;br /&gt;The...</td>\n",
              "      <td>positive</td>\n",
              "    </tr>\n",
              "    <tr>\n",
              "      <th>2</th>\n",
              "      <td>I thought this was a wonderful way to spend ti...</td>\n",
              "      <td>positive</td>\n",
              "    </tr>\n",
              "    <tr>\n",
              "      <th>3</th>\n",
              "      <td>Basically there's a family where a little boy ...</td>\n",
              "      <td>negative</td>\n",
              "    </tr>\n",
              "    <tr>\n",
              "      <th>4</th>\n",
              "      <td>Petter Mattei's \"Love in the Time of Money\" is...</td>\n",
              "      <td>positive</td>\n",
              "    </tr>\n",
              "  </tbody>\n",
              "</table>\n",
              "</div>\n",
              "      <button class=\"colab-df-convert\" onclick=\"convertToInteractive('df-5750bf7d-db16-43cc-85d6-413b6825ba88')\"\n",
              "              title=\"Convert this dataframe to an interactive table.\"\n",
              "              style=\"display:none;\">\n",
              "        \n",
              "  <svg xmlns=\"http://www.w3.org/2000/svg\" height=\"24px\"viewBox=\"0 0 24 24\"\n",
              "       width=\"24px\">\n",
              "    <path d=\"M0 0h24v24H0V0z\" fill=\"none\"/>\n",
              "    <path d=\"M18.56 5.44l.94 2.06.94-2.06 2.06-.94-2.06-.94-.94-2.06-.94 2.06-2.06.94zm-11 1L8.5 8.5l.94-2.06 2.06-.94-2.06-.94L8.5 2.5l-.94 2.06-2.06.94zm10 10l.94 2.06.94-2.06 2.06-.94-2.06-.94-.94-2.06-.94 2.06-2.06.94z\"/><path d=\"M17.41 7.96l-1.37-1.37c-.4-.4-.92-.59-1.43-.59-.52 0-1.04.2-1.43.59L10.3 9.45l-7.72 7.72c-.78.78-.78 2.05 0 2.83L4 21.41c.39.39.9.59 1.41.59.51 0 1.02-.2 1.41-.59l7.78-7.78 2.81-2.81c.8-.78.8-2.07 0-2.86zM5.41 20L4 18.59l7.72-7.72 1.47 1.35L5.41 20z\"/>\n",
              "  </svg>\n",
              "      </button>\n",
              "      \n",
              "  <style>\n",
              "    .colab-df-container {\n",
              "      display:flex;\n",
              "      flex-wrap:wrap;\n",
              "      gap: 12px;\n",
              "    }\n",
              "\n",
              "    .colab-df-convert {\n",
              "      background-color: #E8F0FE;\n",
              "      border: none;\n",
              "      border-radius: 50%;\n",
              "      cursor: pointer;\n",
              "      display: none;\n",
              "      fill: #1967D2;\n",
              "      height: 32px;\n",
              "      padding: 0 0 0 0;\n",
              "      width: 32px;\n",
              "    }\n",
              "\n",
              "    .colab-df-convert:hover {\n",
              "      background-color: #E2EBFA;\n",
              "      box-shadow: 0px 1px 2px rgba(60, 64, 67, 0.3), 0px 1px 3px 1px rgba(60, 64, 67, 0.15);\n",
              "      fill: #174EA6;\n",
              "    }\n",
              "\n",
              "    [theme=dark] .colab-df-convert {\n",
              "      background-color: #3B4455;\n",
              "      fill: #D2E3FC;\n",
              "    }\n",
              "\n",
              "    [theme=dark] .colab-df-convert:hover {\n",
              "      background-color: #434B5C;\n",
              "      box-shadow: 0px 1px 3px 1px rgba(0, 0, 0, 0.15);\n",
              "      filter: drop-shadow(0px 1px 2px rgba(0, 0, 0, 0.3));\n",
              "      fill: #FFFFFF;\n",
              "    }\n",
              "  </style>\n",
              "\n",
              "      <script>\n",
              "        const buttonEl =\n",
              "          document.querySelector('#df-5750bf7d-db16-43cc-85d6-413b6825ba88 button.colab-df-convert');\n",
              "        buttonEl.style.display =\n",
              "          google.colab.kernel.accessAllowed ? 'block' : 'none';\n",
              "\n",
              "        async function convertToInteractive(key) {\n",
              "          const element = document.querySelector('#df-5750bf7d-db16-43cc-85d6-413b6825ba88');\n",
              "          const dataTable =\n",
              "            await google.colab.kernel.invokeFunction('convertToInteractive',\n",
              "                                                     [key], {});\n",
              "          if (!dataTable) return;\n",
              "\n",
              "          const docLinkHtml = 'Like what you see? Visit the ' +\n",
              "            '<a target=\"_blank\" href=https://colab.research.google.com/notebooks/data_table.ipynb>data table notebook</a>'\n",
              "            + ' to learn more about interactive tables.';\n",
              "          element.innerHTML = '';\n",
              "          dataTable['output_type'] = 'display_data';\n",
              "          await google.colab.output.renderOutput(dataTable, element);\n",
              "          const docLink = document.createElement('div');\n",
              "          docLink.innerHTML = docLinkHtml;\n",
              "          element.appendChild(docLink);\n",
              "        }\n",
              "      </script>\n",
              "    </div>\n",
              "  </div>\n",
              "  "
            ]
          },
          "metadata": {},
          "execution_count": 3
        }
      ]
    },
    {
      "cell_type": "markdown",
      "source": [
        "## EDA"
      ],
      "metadata": {
        "id": "XNBxVPW_lTzx"
      }
    },
    {
      "cell_type": "code",
      "source": [
        "df.info()"
      ],
      "metadata": {
        "id": "XzT_Ssi4wFaE",
        "colab": {
          "base_uri": "https://localhost:8080/"
        },
        "outputId": "aa34044b-4367-4ffc-941c-a071c40129c7"
      },
      "execution_count": 4,
      "outputs": [
        {
          "output_type": "stream",
          "name": "stdout",
          "text": [
            "<class 'pandas.core.frame.DataFrame'>\n",
            "RangeIndex: 50000 entries, 0 to 49999\n",
            "Data columns (total 2 columns):\n",
            " #   Column     Non-Null Count  Dtype \n",
            "---  ------     --------------  ----- \n",
            " 0   review     50000 non-null  object\n",
            " 1   sentiment  50000 non-null  object\n",
            "dtypes: object(2)\n",
            "memory usage: 781.4+ KB\n"
          ]
        }
      ]
    },
    {
      "cell_type": "code",
      "source": [
        "df.columns"
      ],
      "metadata": {
        "id": "5eJsPNbowHDm",
        "colab": {
          "base_uri": "https://localhost:8080/"
        },
        "outputId": "e2ccda89-958d-49eb-87d5-f5dece55da75"
      },
      "execution_count": 5,
      "outputs": [
        {
          "output_type": "execute_result",
          "data": {
            "text/plain": [
              "Index(['review', 'sentiment'], dtype='object')"
            ]
          },
          "metadata": {},
          "execution_count": 5
        }
      ]
    },
    {
      "cell_type": "code",
      "source": [
        "df['sentiment'].value_counts()"
      ],
      "metadata": {
        "id": "33CMgpebwNCF",
        "colab": {
          "base_uri": "https://localhost:8080/"
        },
        "outputId": "45081b45-34c4-4f2c-c695-d3d56f086c56"
      },
      "execution_count": 6,
      "outputs": [
        {
          "output_type": "execute_result",
          "data": {
            "text/plain": [
              "positive    25000\n",
              "negative    25000\n",
              "Name: sentiment, dtype: int64"
            ]
          },
          "metadata": {},
          "execution_count": 6
        }
      ]
    },
    {
      "cell_type": "code",
      "source": [
        "sns.countplot(x='sentiment',data=df)"
      ],
      "metadata": {
        "id": "jaNSMuIRwVkC",
        "colab": {
          "base_uri": "https://localhost:8080/",
          "height": 296
        },
        "outputId": "40e4a247-c31c-4004-e2a9-a721d1379cf7"
      },
      "execution_count": 7,
      "outputs": [
        {
          "output_type": "execute_result",
          "data": {
            "text/plain": [
              "<matplotlib.axes._subplots.AxesSubplot at 0x7fd82a933050>"
            ]
          },
          "metadata": {},
          "execution_count": 7
        },
        {
          "output_type": "display_data",
          "data": {
            "text/plain": [
              "<Figure size 432x288 with 1 Axes>"
            ],
            "image/png": "[encoded data removed]"
          },
          "metadata": {
            "needs_background": "light"
          }
        }
      ]
    },
    {
      "cell_type": "code",
      "source": [
        "df['sentiment'].describe()"
      ],
      "metadata": {
        "id": "LLiLwtAbxLB6",
        "colab": {
          "base_uri": "https://localhost:8080/"
        },
        "outputId": "1e7b4ab9-b95e-4ea9-eff4-ead62ce23da5"
      },
      "execution_count": 8,
      "outputs": [
        {
          "output_type": "execute_result",
          "data": {
            "text/plain": [
              "count        50000\n",
              "unique           2\n",
              "top       positive\n",
              "freq         25000\n",
              "Name: sentiment, dtype: object"
            ]
          },
          "metadata": {},
          "execution_count": 8
        }
      ]
    },
    {
      "cell_type": "markdown",
      "source": [
        "### Text Cleaning"
      ],
      "metadata": {
        "id": "W2aFEO3FmuSb"
      }
    },
    {
      "cell_type": "code",
      "source": [
        "def clean_text(text):\n",
        "  # split into tokens by white space\n",
        "  words = text.split()  \n",
        "  tokens = [word.lower() for word in words]\n",
        "  # prepare regex for char filtering\n",
        "  re_punc = re.compile('[%s]' % re.escape(string.punctuation))\n",
        "  # remove punctuation from each word\n",
        "  tokens = [re_punc.sub('', w) for w in tokens]\n",
        "  re_br = re.compile('(br)$')\n",
        "  tokens = [re_br.sub('', w) for w in tokens]\n",
        "  # remove remaining tokens that are not alphabetic\n",
        "  tokens = [word for word in tokens if word.isalpha()]\n",
        "  # filter out stop words\n",
        "  stop_words = set(stopwords.words('english'))\n",
        "  tokens = [word for word in tokens if not word in stop_words]\n",
        "  # filter out short tokens\n",
        "  tokens = [word for word in tokens if len(word) > 1]  \n",
        "  return tokens\n"
      ],
      "metadata": {
        "id": "EL6Gayjpxr2T"
      },
      "execution_count": 9,
      "outputs": []
    },
    {
      "cell_type": "code",
      "source": [
        "df['review'] = df['review'].apply(lambda x:clean_text(x))"
      ],
      "metadata": {
        "id": "PbRj6KLZzI6v"
      },
      "execution_count": 10,
      "outputs": []
    },
    {
      "cell_type": "code",
      "source": [
        "df.head()"
      ],
      "metadata": {
        "id": "RVnK8p36zbZX",
        "colab": {
          "base_uri": "https://localhost:8080/",
          "height": 206
        },
        "outputId": "0d8c917b-bee5-4613-cfc0-73021504c36b"
      },
      "execution_count": 11,
      "outputs": [
        {
          "output_type": "execute_result",
          "data": {
            "text/plain": [
              "                                              review sentiment\n",
              "0  [one, reviewers, mentioned, watching, oz, epis...  positive\n",
              "1  [wonderful, little, production, filming, techn...  positive\n",
              "2  [thought, wonderful, way, spend, time, hot, su...  positive\n",
              "3  [basically, theres, family, little, boy, jake,...  negative\n",
              "4  [petter, matteis, love, time, money, visually,...  positive"
            ],
            "text/html": [
              "\n",
              "  <div id=\"df-30a1fb35-5802-4361-bf8d-7fd6733bc7ba\">\n",
              "    <div class=\"colab-df-container\">\n",
              "      <div>\n",
              "<style scoped>\n",
              "    .dataframe tbody tr th:only-of-type {\n",
              "        vertical-align: middle;\n",
              "    }\n",
              "\n",
              "    .dataframe tbody tr th {\n",
              "        vertical-align: top;\n",
              "    }\n",
              "\n",
              "    .dataframe thead th {\n",
              "        text-align: right;\n",
              "    }\n",
              "</style>\n",
              "<table border=\"1\" class=\"dataframe\">\n",
              "  <thead>\n",
              "    <tr style=\"text-align: right;\">\n",
              "      <th></th>\n",
              "      <th>review</th>\n",
              "      <th>sentiment</th>\n",
              "    </tr>\n",
              "  </thead>\n",
              "  <tbody>\n",
              "    <tr>\n",
              "      <th>0</th>\n",
              "      <td>[one, reviewers, mentioned, watching, oz, epis...</td>\n",
              "      <td>positive</td>\n",
              "    </tr>\n",
              "    <tr>\n",
              "      <th>1</th>\n",
              "      <td>[wonderful, little, production, filming, techn...</td>\n",
              "      <td>positive</td>\n",
              "    </tr>\n",
              "    <tr>\n",
              "      <th>2</th>\n",
              "      <td>[thought, wonderful, way, spend, time, hot, su...</td>\n",
              "      <td>positive</td>\n",
              "    </tr>\n",
              "    <tr>\n",
              "      <th>3</th>\n",
              "      <td>[basically, theres, family, little, boy, jake,...</td>\n",
              "      <td>negative</td>\n",
              "    </tr>\n",
              "    <tr>\n",
              "      <th>4</th>\n",
              "      <td>[petter, matteis, love, time, money, visually,...</td>\n",
              "      <td>positive</td>\n",
              "    </tr>\n",
              "  </tbody>\n",
              "</table>\n",
              "</div>\n",
              "      <button class=\"colab-df-convert\" onclick=\"convertToInteractive('df-30a1fb35-5802-4361-bf8d-7fd6733bc7ba')\"\n",
              "              title=\"Convert this dataframe to an interactive table.\"\n",
              "              style=\"display:none;\">\n",
              "        \n",
              "  <svg xmlns=\"http://www.w3.org/2000/svg\" height=\"24px\"viewBox=\"0 0 24 24\"\n",
              "       width=\"24px\">\n",
              "    <path d=\"M0 0h24v24H0V0z\" fill=\"none\"/>\n",
              "    <path d=\"M18.56 5.44l.94 2.06.94-2.06 2.06-.94-2.06-.94-.94-2.06-.94 2.06-2.06.94zm-11 1L8.5 8.5l.94-2.06 2.06-.94-2.06-.94L8.5 2.5l-.94 2.06-2.06.94zm10 10l.94 2.06.94-2.06 2.06-.94-2.06-.94-.94-2.06-.94 2.06-2.06.94z\"/><path d=\"M17.41 7.96l-1.37-1.37c-.4-.4-.92-.59-1.43-.59-.52 0-1.04.2-1.43.59L10.3 9.45l-7.72 7.72c-.78.78-.78 2.05 0 2.83L4 21.41c.39.39.9.59 1.41.59.51 0 1.02-.2 1.41-.59l7.78-7.78 2.81-2.81c.8-.78.8-2.07 0-2.86zM5.41 20L4 18.59l7.72-7.72 1.47 1.35L5.41 20z\"/>\n",
              "  </svg>\n",
              "      </button>\n",
              "      \n",
              "  <style>\n",
              "    .colab-df-container {\n",
              "      display:flex;\n",
              "      flex-wrap:wrap;\n",
              "      gap: 12px;\n",
              "    }\n",
              "\n",
              "    .colab-df-convert {\n",
              "      background-color: #E8F0FE;\n",
              "      border: none;\n",
              "      border-radius: 50%;\n",
              "      cursor: pointer;\n",
              "      display: none;\n",
              "      fill: #1967D2;\n",
              "      height: 32px;\n",
              "      padding: 0 0 0 0;\n",
              "      width: 32px;\n",
              "    }\n",
              "\n",
              "    .colab-df-convert:hover {\n",
              "      background-color: #E2EBFA;\n",
              "      box-shadow: 0px 1px 2px rgba(60, 64, 67, 0.3), 0px 1px 3px 1px rgba(60, 64, 67, 0.15);\n",
              "      fill: #174EA6;\n",
              "    }\n",
              "\n",
              "    [theme=dark] .colab-df-convert {\n",
              "      background-color: #3B4455;\n",
              "      fill: #D2E3FC;\n",
              "    }\n",
              "\n",
              "    [theme=dark] .colab-df-convert:hover {\n",
              "      background-color: #434B5C;\n",
              "      box-shadow: 0px 1px 3px 1px rgba(0, 0, 0, 0.15);\n",
              "      filter: drop-shadow(0px 1px 2px rgba(0, 0, 0, 0.3));\n",
              "      fill: #FFFFFF;\n",
              "    }\n",
              "  </style>\n",
              "\n",
              "      <script>\n",
              "        const buttonEl =\n",
              "          document.querySelector('#df-30a1fb35-5802-4361-bf8d-7fd6733bc7ba button.colab-df-convert');\n",
              "        buttonEl.style.display =\n",
              "          google.colab.kernel.accessAllowed ? 'block' : 'none';\n",
              "\n",
              "        async function convertToInteractive(key) {\n",
              "          const element = document.querySelector('#df-30a1fb35-5802-4361-bf8d-7fd6733bc7ba');\n",
              "          const dataTable =\n",
              "            await google.colab.kernel.invokeFunction('convertToInteractive',\n",
              "                                                     [key], {});\n",
              "          if (!dataTable) return;\n",
              "\n",
              "          const docLinkHtml = 'Like what you see? Visit the ' +\n",
              "            '<a target=\"_blank\" href=https://colab.research.google.com/notebooks/data_table.ipynb>data table notebook</a>'\n",
              "            + ' to learn more about interactive tables.';\n",
              "          element.innerHTML = '';\n",
              "          dataTable['output_type'] = 'display_data';\n",
              "          await google.colab.output.renderOutput(dataTable, element);\n",
              "          const docLink = document.createElement('div');\n",
              "          docLink.innerHTML = docLinkHtml;\n",
              "          element.appendChild(docLink);\n",
              "        }\n",
              "      </script>\n",
              "    </div>\n",
              "  </div>\n",
              "  "
            ]
          },
          "metadata": {},
          "execution_count": 11
        }
      ]
    },
    {
      "cell_type": "code",
      "source": [
        "top = Counter([item for row in df['review'] for item in row])\n",
        "temp = pd.DataFrame(top.most_common(20))\n",
        "temp.columns = ['Common_words','count']\n",
        "temp.style.background_gradient(cmap='Blues')"
      ],
      "metadata": {
        "id": "ARFlo4TA4A2J",
        "colab": {
          "base_uri": "https://localhost:8080/",
          "height": 676
        },
        "outputId": "8d818765-fd6c-4517-cce6-60a148677e14"
      },
      "execution_count": 12,
      "outputs": [
        {
          "output_type": "execute_result",
          "data": {
            "text/plain": [
              "<pandas.io.formats.style.Styler at 0x7fd812c63990>"
            ],
            "text/html": [
              "<style type=\"text/css\">\n",
              "#T_626df_row0_col1 {\n",
              "  background-color: #08306b;\n",
              "  color: #f1f1f1;\n",
              "}\n",
              "#T_626df_row1_col1 {\n",
              "  background-color: #0a539e;\n",
              "  color: #f1f1f1;\n",
              "}\n",
              "#T_626df_row2_col1 {\n",
              "  background-color: #69add5;\n",
              "  color: #f1f1f1;\n",
              "}\n",
              "#T_626df_row3_col1 {\n",
              "  background-color: #afd1e7;\n",
              "  color: #000000;\n",
              "}\n",
              "#T_626df_row4_col1 {\n",
              "  background-color: #d5e5f4;\n",
              "  color: #000000;\n",
              "}\n",
              "#T_626df_row5_col1 {\n",
              "  background-color: #e1edf8;\n",
              "  color: #000000;\n",
              "}\n",
              "#T_626df_row6_col1, #T_626df_row7_col1 {\n",
              "  background-color: #e3eef8;\n",
              "  color: #000000;\n",
              "}\n",
              "#T_626df_row8_col1 {\n",
              "  background-color: #e6f0f9;\n",
              "  color: #000000;\n",
              "}\n",
              "#T_626df_row9_col1 {\n",
              "  background-color: #e7f0fa;\n",
              "  color: #000000;\n",
              "}\n",
              "#T_626df_row10_col1 {\n",
              "  background-color: #e7f1fa;\n",
              "  color: #000000;\n",
              "}\n",
              "#T_626df_row11_col1, #T_626df_row12_col1 {\n",
              "  background-color: #f1f7fd;\n",
              "  color: #000000;\n",
              "}\n",
              "#T_626df_row13_col1 {\n",
              "  background-color: #f4f9fe;\n",
              "  color: #000000;\n",
              "}\n",
              "#T_626df_row14_col1, #T_626df_row15_col1, #T_626df_row16_col1 {\n",
              "  background-color: #f5f9fe;\n",
              "  color: #000000;\n",
              "}\n",
              "#T_626df_row17_col1 {\n",
              "  background-color: #f5fafe;\n",
              "  color: #000000;\n",
              "}\n",
              "#T_626df_row18_col1 {\n",
              "  background-color: #f6faff;\n",
              "  color: #000000;\n",
              "}\n",
              "#T_626df_row19_col1 {\n",
              "  background-color: #f7fbff;\n",
              "  color: #000000;\n",
              "}\n",
              "</style>\n",
              "<table id=\"T_626df_\" class=\"dataframe\">\n",
              "  <thead>\n",
              "    <tr>\n",
              "      <th class=\"blank level0\" >&nbsp;</th>\n",
              "      <th class=\"col_heading level0 col0\" >Common_words</th>\n",
              "      <th class=\"col_heading level0 col1\" >count</th>\n",
              "    </tr>\n",
              "  </thead>\n",
              "  <tbody>\n",
              "    <tr>\n",
              "      <th id=\"T_626df_level0_row0\" class=\"row_heading level0 row0\" >0</th>\n",
              "      <td id=\"T_626df_row0_col0\" class=\"data row0 col0\" >movie</td>\n",
              "      <td id=\"T_626df_row0_col1\" class=\"data row0 col1\" >85223</td>\n",
              "    </tr>\n",
              "    <tr>\n",
              "      <th id=\"T_626df_level0_row1\" class=\"row_heading level0 row1\" >1</th>\n",
              "      <td id=\"T_626df_row1_col0\" class=\"data row1 col0\" >film</td>\n",
              "      <td id=\"T_626df_row1_col1\" class=\"data row1 col1\" >76028</td>\n",
              "    </tr>\n",
              "    <tr>\n",
              "      <th id=\"T_626df_level0_row2\" class=\"row_heading level0 row2\" >2</th>\n",
              "      <td id=\"T_626df_row2_col0\" class=\"data row2 col0\" >one</td>\n",
              "      <td id=\"T_626df_row2_col1\" class=\"data row2 col1\" >51476</td>\n",
              "    </tr>\n",
              "    <tr>\n",
              "      <th id=\"T_626df_level0_row3\" class=\"row_heading level0 row3\" >3</th>\n",
              "      <td id=\"T_626df_row3_col0\" class=\"data row3 col0\" >like</td>\n",
              "      <td id=\"T_626df_row3_col1\" class=\"data row3 col1\" >39063</td>\n",
              "    </tr>\n",
              "    <tr>\n",
              "      <th id=\"T_626df_level0_row4\" class=\"row_heading level0 row4\" >4</th>\n",
              "      <td id=\"T_626df_row4_col0\" class=\"data row4 col0\" >good</td>\n",
              "      <td id=\"T_626df_row4_col1\" class=\"data row4 col1\" >28912</td>\n",
              "    </tr>\n",
              "    <tr>\n",
              "      <th id=\"T_626df_level0_row5\" class=\"row_heading level0 row5\" >5</th>\n",
              "      <td id=\"T_626df_row5_col0\" class=\"data row5 col0\" >even</td>\n",
              "      <td id=\"T_626df_row5_col1\" class=\"data row5 col1\" >24582</td>\n",
              "    </tr>\n",
              "    <tr>\n",
              "      <th id=\"T_626df_level0_row6\" class=\"row_heading level0 row6\" >6</th>\n",
              "      <td id=\"T_626df_row6_col0\" class=\"data row6 col0\" >would</td>\n",
              "      <td id=\"T_626df_row6_col1\" class=\"data row6 col1\" >24036</td>\n",
              "    </tr>\n",
              "    <tr>\n",
              "      <th id=\"T_626df_level0_row7\" class=\"row_heading level0 row7\" >7</th>\n",
              "      <td id=\"T_626df_row7_col0\" class=\"data row7 col0\" >time</td>\n",
              "      <td id=\"T_626df_row7_col1\" class=\"data row7 col1\" >23960</td>\n",
              "    </tr>\n",
              "    <tr>\n",
              "      <th id=\"T_626df_level0_row8\" class=\"row_heading level0 row8\" >8</th>\n",
              "      <td id=\"T_626df_row8_col0\" class=\"data row8 col0\" >really</td>\n",
              "      <td id=\"T_626df_row8_col1\" class=\"data row8 col1\" >23011</td>\n",
              "    </tr>\n",
              "    <tr>\n",
              "      <th id=\"T_626df_level0_row9\" class=\"row_heading level0 row9\" >9</th>\n",
              "      <td id=\"T_626df_row9_col0\" class=\"data row9 col0\" >see</td>\n",
              "      <td id=\"T_626df_row9_col1\" class=\"data row9 col1\" >22640</td>\n",
              "    </tr>\n",
              "    <tr>\n",
              "      <th id=\"T_626df_level0_row10\" class=\"row_heading level0 row10\" >10</th>\n",
              "      <td id=\"T_626df_row10_col0\" class=\"data row10 col0\" >story</td>\n",
              "      <td id=\"T_626df_row10_col1\" class=\"data row10 col1\" >22514</td>\n",
              "    </tr>\n",
              "    <tr>\n",
              "      <th id=\"T_626df_level0_row11\" class=\"row_heading level0 row11\" >11</th>\n",
              "      <td id=\"T_626df_row11_col0\" class=\"data row11 col0\" >well</td>\n",
              "      <td id=\"T_626df_row11_col1\" class=\"data row11 col1\" >19228</td>\n",
              "    </tr>\n",
              "    <tr>\n",
              "      <th id=\"T_626df_level0_row12\" class=\"row_heading level0 row12\" >12</th>\n",
              "      <td id=\"T_626df_row12_col0\" class=\"data row12 col0\" >much</td>\n",
              "      <td id=\"T_626df_row12_col1\" class=\"data row12 col1\" >19110</td>\n",
              "    </tr>\n",
              "    <tr>\n",
              "      <th id=\"T_626df_level0_row13\" class=\"row_heading level0 row13\" >13</th>\n",
              "      <td id=\"T_626df_row13_col0\" class=\"data row13 col0\" >get</td>\n",
              "      <td id=\"T_626df_row13_col1\" class=\"data row13 col1\" >18244</td>\n",
              "    </tr>\n",
              "    <tr>\n",
              "      <th id=\"T_626df_level0_row14\" class=\"row_heading level0 row14\" >14</th>\n",
              "      <td id=\"T_626df_row14_col0\" class=\"data row14 col0\" >bad</td>\n",
              "      <td id=\"T_626df_row14_col1\" class=\"data row14 col1\" >17989</td>\n",
              "    </tr>\n",
              "    <tr>\n",
              "      <th id=\"T_626df_level0_row15\" class=\"row_heading level0 row15\" >15</th>\n",
              "      <td id=\"T_626df_row15_col0\" class=\"data row15 col0\" >great</td>\n",
              "      <td id=\"T_626df_row15_col1\" class=\"data row15 col1\" >17934</td>\n",
              "    </tr>\n",
              "    <tr>\n",
              "      <th id=\"T_626df_level0_row16\" class=\"row_heading level0 row16\" >16</th>\n",
              "      <td id=\"T_626df_row16_col0\" class=\"data row16 col0\" >also</td>\n",
              "      <td id=\"T_626df_row16_col1\" class=\"data row16 col1\" >17857</td>\n",
              "    </tr>\n",
              "    <tr>\n",
              "      <th id=\"T_626df_level0_row17\" class=\"row_heading level0 row17\" >17</th>\n",
              "      <td id=\"T_626df_row17_col0\" class=\"data row17 col0\" >people</td>\n",
              "      <td id=\"T_626df_row17_col1\" class=\"data row17 col1\" >17710</td>\n",
              "    </tr>\n",
              "    <tr>\n",
              "      <th id=\"T_626df_level0_row18\" class=\"row_heading level0 row18\" >18</th>\n",
              "      <td id=\"T_626df_row18_col0\" class=\"data row18 col0\" >first</td>\n",
              "      <td id=\"T_626df_row18_col1\" class=\"data row18 col1\" >17206</td>\n",
              "    </tr>\n",
              "    <tr>\n",
              "      <th id=\"T_626df_level0_row19\" class=\"row_heading level0 row19\" >19</th>\n",
              "      <td id=\"T_626df_row19_col0\" class=\"data row19 col0\" >dont</td>\n",
              "      <td id=\"T_626df_row19_col1\" class=\"data row19 col1\" >16925</td>\n",
              "    </tr>\n",
              "  </tbody>\n",
              "</table>\n"
            ]
          },
          "metadata": {},
          "execution_count": 12
        }
      ]
    },
    {
      "cell_type": "code",
      "source": [
        "bad_review = df[df['sentiment'] == 'negative']\n",
        "good_review = df[df['sentiment'] == 'positive']"
      ],
      "metadata": {
        "id": "zKBlR-1P49qm"
      },
      "execution_count": 13,
      "outputs": []
    },
    {
      "cell_type": "code",
      "source": [
        "good_review"
      ],
      "metadata": {
        "id": "hK_yz6Eh7Wi-",
        "colab": {
          "base_uri": "https://localhost:8080/",
          "height": 424
        },
        "outputId": "31bc04ac-cdaa-4a1a-dfb8-3a33654820ae"
      },
      "execution_count": 14,
      "outputs": [
        {
          "output_type": "execute_result",
          "data": {
            "text/plain": [
              "                                                  review sentiment\n",
              "0      [one, reviewers, mentioned, watching, oz, epis...  positive\n",
              "1      [wonderful, little, production, filming, techn...  positive\n",
              "2      [thought, wonderful, way, spend, time, hot, su...  positive\n",
              "4      [petter, matteis, love, time, money, visually,...  positive\n",
              "5      [probably, alltime, favorite, movie, story, se...  positive\n",
              "...                                                  ...       ...\n",
              "49983  [loved, fan, original, series, always, wondere...  positive\n",
              "49985  [imaginary, heroes, clearly, best, film, year,...  positive\n",
              "49989  [got, one, weeks, ago, love, modern, light, fi...  positive\n",
              "49992  [john, garfield, plays, marine, blinded, grena...  positive\n",
              "49995  [thought, movie, right, good, job, wasnt, crea...  positive\n",
              "\n",
              "[25000 rows x 2 columns]"
            ],
            "text/html": [
              "\n",
              "  <div id=\"df-ad1788e7-e45a-4f25-bb70-d239f1755d0d\">\n",
              "    <div class=\"colab-df-container\">\n",
              "      <div>\n",
              "<style scoped>\n",
              "    .dataframe tbody tr th:only-of-type {\n",
              "        vertical-align: middle;\n",
              "    }\n",
              "\n",
              "    .dataframe tbody tr th {\n",
              "        vertical-align: top;\n",
              "    }\n",
              "\n",
              "    .dataframe thead th {\n",
              "        text-align: right;\n",
              "    }\n",
              "</style>\n",
              "<table border=\"1\" class=\"dataframe\">\n",
              "  <thead>\n",
              "    <tr style=\"text-align: right;\">\n",
              "      <th></th>\n",
              "      <th>review</th>\n",
              "      <th>sentiment</th>\n",
              "    </tr>\n",
              "  </thead>\n",
              "  <tbody>\n",
              "    <tr>\n",
              "      <th>0</th>\n",
              "      <td>[one, reviewers, mentioned, watching, oz, epis...</td>\n",
              "      <td>positive</td>\n",
              "    </tr>\n",
              "    <tr>\n",
              "      <th>1</th>\n",
              "      <td>[wonderful, little, production, filming, techn...</td>\n",
              "      <td>positive</td>\n",
              "    </tr>\n",
              "    <tr>\n",
              "      <th>2</th>\n",
              "      <td>[thought, wonderful, way, spend, time, hot, su...</td>\n",
              "      <td>positive</td>\n",
              "    </tr>\n",
              "    <tr>\n",
              "      <th>4</th>\n",
              "      <td>[petter, matteis, love, time, money, visually,...</td>\n",
              "      <td>positive</td>\n",
              "    </tr>\n",
              "    <tr>\n",
              "      <th>5</th>\n",
              "      <td>[probably, alltime, favorite, movie, story, se...</td>\n",
              "      <td>positive</td>\n",
              "    </tr>\n",
              "    <tr>\n",
              "      <th>...</th>\n",
              "      <td>...</td>\n",
              "      <td>...</td>\n",
              "    </tr>\n",
              "    <tr>\n",
              "      <th>49983</th>\n",
              "      <td>[loved, fan, original, series, always, wondere...</td>\n",
              "      <td>positive</td>\n",
              "    </tr>\n",
              "    <tr>\n",
              "      <th>49985</th>\n",
              "      <td>[imaginary, heroes, clearly, best, film, year,...</td>\n",
              "      <td>positive</td>\n",
              "    </tr>\n",
              "    <tr>\n",
              "      <th>49989</th>\n",
              "      <td>[got, one, weeks, ago, love, modern, light, fi...</td>\n",
              "      <td>positive</td>\n",
              "    </tr>\n",
              "    <tr>\n",
              "      <th>49992</th>\n",
              "      <td>[john, garfield, plays, marine, blinded, grena...</td>\n",
              "      <td>positive</td>\n",
              "    </tr>\n",
              "    <tr>\n",
              "      <th>49995</th>\n",
              "      <td>[thought, movie, right, good, job, wasnt, crea...</td>\n",
              "      <td>positive</td>\n",
              "    </tr>\n",
              "  </tbody>\n",
              "</table>\n",
              "<p>25000 rows × 2 columns</p>\n",
              "</div>\n",
              "      <button class=\"colab-df-convert\" onclick=\"convertToInteractive('df-ad1788e7-e45a-4f25-bb70-d239f1755d0d')\"\n",
              "              title=\"Convert this dataframe to an interactive table.\"\n",
              "              style=\"display:none;\">\n",
              "        \n",
              "  <svg xmlns=\"http://www.w3.org/2000/svg\" height=\"24px\"viewBox=\"0 0 24 24\"\n",
              "       width=\"24px\">\n",
              "    <path d=\"M0 0h24v24H0V0z\" fill=\"none\"/>\n",
              "    <path d=\"M18.56 5.44l.94 2.06.94-2.06 2.06-.94-2.06-.94-.94-2.06-.94 2.06-2.06.94zm-11 1L8.5 8.5l.94-2.06 2.06-.94-2.06-.94L8.5 2.5l-.94 2.06-2.06.94zm10 10l.94 2.06.94-2.06 2.06-.94-2.06-.94-.94-2.06-.94 2.06-2.06.94z\"/><path d=\"M17.41 7.96l-1.37-1.37c-.4-.4-.92-.59-1.43-.59-.52 0-1.04.2-1.43.59L10.3 9.45l-7.72 7.72c-.78.78-.78 2.05 0 2.83L4 21.41c.39.39.9.59 1.41.59.51 0 1.02-.2 1.41-.59l7.78-7.78 2.81-2.81c.8-.78.8-2.07 0-2.86zM5.41 20L4 18.59l7.72-7.72 1.47 1.35L5.41 20z\"/>\n",
              "  </svg>\n",
              "      </button>\n",
              "      \n",
              "  <style>\n",
              "    .colab-df-container {\n",
              "      display:flex;\n",
              "      flex-wrap:wrap;\n",
              "      gap: 12px;\n",
              "    }\n",
              "\n",
              "    .colab-df-convert {\n",
              "      background-color: #E8F0FE;\n",
              "      border: none;\n",
              "      border-radius: 50%;\n",
              "      cursor: pointer;\n",
              "      display: none;\n",
              "      fill: #1967D2;\n",
              "      height: 32px;\n",
              "      padding: 0 0 0 0;\n",
              "      width: 32px;\n",
              "    }\n",
              "\n",
              "    .colab-df-convert:hover {\n",
              "      background-color: #E2EBFA;\n",
              "      box-shadow: 0px 1px 2px rgba(60, 64, 67, 0.3), 0px 1px 3px 1px rgba(60, 64, 67, 0.15);\n",
              "      fill: #174EA6;\n",
              "    }\n",
              "\n",
              "    [theme=dark] .colab-df-convert {\n",
              "      background-color: #3B4455;\n",
              "      fill: #D2E3FC;\n",
              "    }\n",
              "\n",
              "    [theme=dark] .colab-df-convert:hover {\n",
              "      background-color: #434B5C;\n",
              "      box-shadow: 0px 1px 3px 1px rgba(0, 0, 0, 0.15);\n",
              "      filter: drop-shadow(0px 1px 2px rgba(0, 0, 0, 0.3));\n",
              "      fill: #FFFFFF;\n",
              "    }\n",
              "  </style>\n",
              "\n",
              "      <script>\n",
              "        const buttonEl =\n",
              "          document.querySelector('#df-ad1788e7-e45a-4f25-bb70-d239f1755d0d button.colab-df-convert');\n",
              "        buttonEl.style.display =\n",
              "          google.colab.kernel.accessAllowed ? 'block' : 'none';\n",
              "\n",
              "        async function convertToInteractive(key) {\n",
              "          const element = document.querySelector('#df-ad1788e7-e45a-4f25-bb70-d239f1755d0d');\n",
              "          const dataTable =\n",
              "            await google.colab.kernel.invokeFunction('convertToInteractive',\n",
              "                                                     [key], {});\n",
              "          if (!dataTable) return;\n",
              "\n",
              "          const docLinkHtml = 'Like what you see? Visit the ' +\n",
              "            '<a target=\"_blank\" href=https://colab.research.google.com/notebooks/data_table.ipynb>data table notebook</a>'\n",
              "            + ' to learn more about interactive tables.';\n",
              "          element.innerHTML = '';\n",
              "          dataTable['output_type'] = 'display_data';\n",
              "          await google.colab.output.renderOutput(dataTable, element);\n",
              "          const docLink = document.createElement('div');\n",
              "          docLink.innerHTML = docLinkHtml;\n",
              "          element.appendChild(docLink);\n",
              "        }\n",
              "      </script>\n",
              "    </div>\n",
              "  </div>\n",
              "  "
            ]
          },
          "metadata": {},
          "execution_count": 14
        }
      ]
    },
    {
      "cell_type": "code",
      "source": [
        "#MosT common words in good review\n",
        "top = Counter([item for row in good_review['review'] for item in row])\n",
        "temp_positive = pd.DataFrame(top.most_common(20))\n",
        "temp_positive.columns = ['Common_words','count']\n",
        "temp_positive.style.background_gradient(cmap='Greens')"
      ],
      "metadata": {
        "id": "Uh8Yzb3D7LFL",
        "colab": {
          "base_uri": "https://localhost:8080/",
          "height": 676
        },
        "outputId": "15490ed9-426c-4c26-94e7-3daa2e3e79fb"
      },
      "execution_count": 15,
      "outputs": [
        {
          "output_type": "execute_result",
          "data": {
            "text/plain": [
              "<pandas.io.formats.style.Styler at 0x7fd82aabc650>"
            ],
            "text/html": [
              "<style type=\"text/css\">\n",
              "#T_086e9_row0_col1 {\n",
              "  background-color: #00441b;\n",
              "  color: #f1f1f1;\n",
              "}\n",
              "#T_086e9_row1_col1 {\n",
              "  background-color: #006729;\n",
              "  color: #f1f1f1;\n",
              "}\n",
              "#T_086e9_row2_col1 {\n",
              "  background-color: #5ab769;\n",
              "  color: #f1f1f1;\n",
              "}\n",
              "#T_086e9_row3_col1 {\n",
              "  background-color: #c0e6b9;\n",
              "  color: #000000;\n",
              "}\n",
              "#T_086e9_row4_col1 {\n",
              "  background-color: #d5efcf;\n",
              "  color: #000000;\n",
              "}\n",
              "#T_086e9_row5_col1 {\n",
              "  background-color: #e2f4dd;\n",
              "  color: #000000;\n",
              "}\n",
              "#T_086e9_row6_col1 {\n",
              "  background-color: #e3f4de;\n",
              "  color: #000000;\n",
              "}\n",
              "#T_086e9_row7_col1 {\n",
              "  background-color: #e6f5e1;\n",
              "  color: #000000;\n",
              "}\n",
              "#T_086e9_row8_col1 {\n",
              "  background-color: #e7f6e3;\n",
              "  color: #000000;\n",
              "}\n",
              "#T_086e9_row9_col1 {\n",
              "  background-color: #e9f7e5;\n",
              "  color: #000000;\n",
              "}\n",
              "#T_086e9_row10_col1, #T_086e9_row11_col1 {\n",
              "  background-color: #edf8e9;\n",
              "  color: #000000;\n",
              "}\n",
              "#T_086e9_row12_col1 {\n",
              "  background-color: #eef8ea;\n",
              "  color: #000000;\n",
              "}\n",
              "#T_086e9_row13_col1 {\n",
              "  background-color: #f2faf0;\n",
              "  color: #000000;\n",
              "}\n",
              "#T_086e9_row14_col1 {\n",
              "  background-color: #f4fbf2;\n",
              "  color: #000000;\n",
              "}\n",
              "#T_086e9_row15_col1 {\n",
              "  background-color: #f5fbf2;\n",
              "  color: #000000;\n",
              "}\n",
              "#T_086e9_row16_col1 {\n",
              "  background-color: #f6fcf4;\n",
              "  color: #000000;\n",
              "}\n",
              "#T_086e9_row17_col1, #T_086e9_row18_col1, #T_086e9_row19_col1 {\n",
              "  background-color: #f7fcf5;\n",
              "  color: #000000;\n",
              "}\n",
              "</style>\n",
              "<table id=\"T_086e9_\" class=\"dataframe\">\n",
              "  <thead>\n",
              "    <tr>\n",
              "      <th class=\"blank level0\" >&nbsp;</th>\n",
              "      <th class=\"col_heading level0 col0\" >Common_words</th>\n",
              "      <th class=\"col_heading level0 col1\" >count</th>\n",
              "    </tr>\n",
              "  </thead>\n",
              "  <tbody>\n",
              "    <tr>\n",
              "      <th id=\"T_086e9_level0_row0\" class=\"row_heading level0 row0\" >0</th>\n",
              "      <td id=\"T_086e9_row0_col0\" class=\"data row0 col0\" >film</td>\n",
              "      <td id=\"T_086e9_row0_col1\" class=\"data row0 col1\" >40163</td>\n",
              "    </tr>\n",
              "    <tr>\n",
              "      <th id=\"T_086e9_level0_row1\" class=\"row_heading level0 row1\" >1</th>\n",
              "      <td id=\"T_086e9_row1_col0\" class=\"data row1 col0\" >movie</td>\n",
              "      <td id=\"T_086e9_row1_col1\" class=\"data row1 col1\" >36704</td>\n",
              "    </tr>\n",
              "    <tr>\n",
              "      <th id=\"T_086e9_level0_row2\" class=\"row_heading level0 row2\" >2</th>\n",
              "      <td id=\"T_086e9_row2_col0\" class=\"data row2 col0\" >one</td>\n",
              "      <td id=\"T_086e9_row2_col1\" class=\"data row2 col1\" >26293</td>\n",
              "    </tr>\n",
              "    <tr>\n",
              "      <th id=\"T_086e9_level0_row3\" class=\"row_heading level0 row3\" >3</th>\n",
              "      <td id=\"T_086e9_row3_col0\" class=\"data row3 col0\" >like</td>\n",
              "      <td id=\"T_086e9_row3_col1\" class=\"data row3 col1\" >17181</td>\n",
              "    </tr>\n",
              "    <tr>\n",
              "      <th id=\"T_086e9_level0_row4\" class=\"row_heading level0 row4\" >4</th>\n",
              "      <td id=\"T_086e9_row4_col0\" class=\"data row4 col0\" >good</td>\n",
              "      <td id=\"T_086e9_row4_col1\" class=\"data row4 col1\" >14572</td>\n",
              "    </tr>\n",
              "    <tr>\n",
              "      <th id=\"T_086e9_level0_row5\" class=\"row_heading level0 row5\" >5</th>\n",
              "      <td id=\"T_086e9_row5_col0\" class=\"data row5 col0\" >great</td>\n",
              "      <td id=\"T_086e9_row5_col1\" class=\"data row5 col1\" >12810</td>\n",
              "    </tr>\n",
              "    <tr>\n",
              "      <th id=\"T_086e9_level0_row6\" class=\"row_heading level0 row6\" >6</th>\n",
              "      <td id=\"T_086e9_row6_col0\" class=\"data row6 col0\" >story</td>\n",
              "      <td id=\"T_086e9_row6_col1\" class=\"data row6 col1\" >12610</td>\n",
              "    </tr>\n",
              "    <tr>\n",
              "      <th id=\"T_086e9_level0_row7\" class=\"row_heading level0 row7\" >7</th>\n",
              "      <td id=\"T_086e9_row7_col0\" class=\"data row7 col0\" >time</td>\n",
              "      <td id=\"T_086e9_row7_col1\" class=\"data row7 col1\" >12123</td>\n",
              "    </tr>\n",
              "    <tr>\n",
              "      <th id=\"T_086e9_level0_row8\" class=\"row_heading level0 row8\" >8</th>\n",
              "      <td id=\"T_086e9_row8_col0\" class=\"data row8 col0\" >see</td>\n",
              "      <td id=\"T_086e9_row8_col1\" class=\"data row8 col1\" >11986</td>\n",
              "    </tr>\n",
              "    <tr>\n",
              "      <th id=\"T_086e9_level0_row9\" class=\"row_heading level0 row9\" >9</th>\n",
              "      <td id=\"T_086e9_row9_col0\" class=\"data row9 col0\" >well</td>\n",
              "      <td id=\"T_086e9_row9_col1\" class=\"data row9 col1\" >11406</td>\n",
              "    </tr>\n",
              "    <tr>\n",
              "      <th id=\"T_086e9_level0_row10\" class=\"row_heading level0 row10\" >10</th>\n",
              "      <td id=\"T_086e9_row10_col0\" class=\"data row10 col0\" >also</td>\n",
              "      <td id=\"T_086e9_row10_col1\" class=\"data row10 col1\" >10727</td>\n",
              "    </tr>\n",
              "    <tr>\n",
              "      <th id=\"T_086e9_level0_row11\" class=\"row_heading level0 row11\" >11</th>\n",
              "      <td id=\"T_086e9_row11_col0\" class=\"data row11 col0\" >really</td>\n",
              "      <td id=\"T_086e9_row11_col1\" class=\"data row11 col1\" >10718</td>\n",
              "    </tr>\n",
              "    <tr>\n",
              "      <th id=\"T_086e9_level0_row12\" class=\"row_heading level0 row12\" >12</th>\n",
              "      <td id=\"T_086e9_row12_col0\" class=\"data row12 col0\" >would</td>\n",
              "      <td id=\"T_086e9_row12_col1\" class=\"data row12 col1\" >10383</td>\n",
              "    </tr>\n",
              "    <tr>\n",
              "      <th id=\"T_086e9_level0_row13\" class=\"row_heading level0 row13\" >13</th>\n",
              "      <td id=\"T_086e9_row13_col0\" class=\"data row13 col0\" >even</td>\n",
              "      <td id=\"T_086e9_row13_col1\" class=\"data row13 col1\" >9484</td>\n",
              "    </tr>\n",
              "    <tr>\n",
              "      <th id=\"T_086e9_level0_row14\" class=\"row_heading level0 row14\" >14</th>\n",
              "      <td id=\"T_086e9_row14_col0\" class=\"data row14 col0\" >much</td>\n",
              "      <td id=\"T_086e9_row14_col1\" class=\"data row14 col1\" >9096</td>\n",
              "    </tr>\n",
              "    <tr>\n",
              "      <th id=\"T_086e9_level0_row15\" class=\"row_heading level0 row15\" >15</th>\n",
              "      <td id=\"T_086e9_row15_col0\" class=\"data row15 col0\" >first</td>\n",
              "      <td id=\"T_086e9_row15_col1\" class=\"data row15 col1\" >8988</td>\n",
              "    </tr>\n",
              "    <tr>\n",
              "      <th id=\"T_086e9_level0_row16\" class=\"row_heading level0 row16\" >16</th>\n",
              "      <td id=\"T_086e9_row16_col0\" class=\"data row16 col0\" >films</td>\n",
              "      <td id=\"T_086e9_row16_col1\" class=\"data row16 col1\" >8581</td>\n",
              "    </tr>\n",
              "    <tr>\n",
              "      <th id=\"T_086e9_level0_row17\" class=\"row_heading level0 row17\" >17</th>\n",
              "      <td id=\"T_086e9_row17_col0\" class=\"data row17 col0\" >love</td>\n",
              "      <td id=\"T_086e9_row17_col1\" class=\"data row17 col1\" >8500</td>\n",
              "    </tr>\n",
              "    <tr>\n",
              "      <th id=\"T_086e9_level0_row18\" class=\"row_heading level0 row18\" >18</th>\n",
              "      <td id=\"T_086e9_row18_col0\" class=\"data row18 col0\" >people</td>\n",
              "      <td id=\"T_086e9_row18_col1\" class=\"data row18 col1\" >8473</td>\n",
              "    </tr>\n",
              "    <tr>\n",
              "      <th id=\"T_086e9_level0_row19\" class=\"row_heading level0 row19\" >19</th>\n",
              "      <td id=\"T_086e9_row19_col0\" class=\"data row19 col0\" >best</td>\n",
              "      <td id=\"T_086e9_row19_col1\" class=\"data row19 col1\" >8388</td>\n",
              "    </tr>\n",
              "  </tbody>\n",
              "</table>\n"
            ]
          },
          "metadata": {},
          "execution_count": 15
        }
      ]
    },
    {
      "cell_type": "code",
      "source": [
        "#MosT common words in bad review\n",
        "top = Counter([item for row in bad_review['review'] for item in row])\n",
        "temp_positive = pd.DataFrame(top.most_common(20))\n",
        "temp_positive.columns = ['Common_words','count']\n",
        "temp_positive.style.background_gradient(cmap='Reds')"
      ],
      "metadata": {
        "id": "db0o_mhA8D3e",
        "colab": {
          "base_uri": "https://localhost:8080/",
          "height": 676
        },
        "outputId": "6d486bdf-e878-46d6-fd8e-be71b3938d3a"
      },
      "execution_count": 16,
      "outputs": [
        {
          "output_type": "execute_result",
          "data": {
            "text/plain": [
              "<pandas.io.formats.style.Styler at 0x7fd82aac5d10>"
            ],
            "text/html": [
              "<style type=\"text/css\">\n",
              "#T_ed332_row0_col1 {\n",
              "  background-color: #67000d;\n",
              "  color: #f1f1f1;\n",
              "}\n",
              "#T_ed332_row1_col1 {\n",
              "  background-color: #dd2a25;\n",
              "  color: #f1f1f1;\n",
              "}\n",
              "#T_ed332_row2_col1 {\n",
              "  background-color: #fc8565;\n",
              "  color: #f1f1f1;\n",
              "}\n",
              "#T_ed332_row3_col1 {\n",
              "  background-color: #fca082;\n",
              "  color: #000000;\n",
              "}\n",
              "#T_ed332_row4_col1 {\n",
              "  background-color: #fdd4c2;\n",
              "  color: #000000;\n",
              "}\n",
              "#T_ed332_row5_col1, #T_ed332_row6_col1 {\n",
              "  background-color: #fedaca;\n",
              "  color: #000000;\n",
              "}\n",
              "#T_ed332_row7_col1 {\n",
              "  background-color: #fedfd0;\n",
              "  color: #000000;\n",
              "}\n",
              "#T_ed332_row8_col1 {\n",
              "  background-color: #fee5d9;\n",
              "  color: #000000;\n",
              "}\n",
              "#T_ed332_row9_col1 {\n",
              "  background-color: #fee7dc;\n",
              "  color: #000000;\n",
              "}\n",
              "#T_ed332_row10_col1 {\n",
              "  background-color: #ffece4;\n",
              "  color: #000000;\n",
              "}\n",
              "#T_ed332_row11_col1 {\n",
              "  background-color: #ffeee6;\n",
              "  color: #000000;\n",
              "}\n",
              "#T_ed332_row12_col1, #T_ed332_row13_col1, #T_ed332_row14_col1 {\n",
              "  background-color: #ffefe8;\n",
              "  color: #000000;\n",
              "}\n",
              "#T_ed332_row15_col1 {\n",
              "  background-color: #fff2ec;\n",
              "  color: #000000;\n",
              "}\n",
              "#T_ed332_row16_col1, #T_ed332_row17_col1 {\n",
              "  background-color: #fff3ed;\n",
              "  color: #000000;\n",
              "}\n",
              "#T_ed332_row18_col1, #T_ed332_row19_col1 {\n",
              "  background-color: #fff5f0;\n",
              "  color: #000000;\n",
              "}\n",
              "</style>\n",
              "<table id=\"T_ed332_\" class=\"dataframe\">\n",
              "  <thead>\n",
              "    <tr>\n",
              "      <th class=\"blank level0\" >&nbsp;</th>\n",
              "      <th class=\"col_heading level0 col0\" >Common_words</th>\n",
              "      <th class=\"col_heading level0 col1\" >count</th>\n",
              "    </tr>\n",
              "  </thead>\n",
              "  <tbody>\n",
              "    <tr>\n",
              "      <th id=\"T_ed332_level0_row0\" class=\"row_heading level0 row0\" >0</th>\n",
              "      <td id=\"T_ed332_row0_col0\" class=\"data row0 col0\" >movie</td>\n",
              "      <td id=\"T_ed332_row0_col1\" class=\"data row0 col1\" >48519</td>\n",
              "    </tr>\n",
              "    <tr>\n",
              "      <th id=\"T_ed332_level0_row1\" class=\"row_heading level0 row1\" >1</th>\n",
              "      <td id=\"T_ed332_row1_col0\" class=\"data row1 col0\" >film</td>\n",
              "      <td id=\"T_ed332_row1_col1\" class=\"data row1 col1\" >35865</td>\n",
              "    </tr>\n",
              "    <tr>\n",
              "      <th id=\"T_ed332_level0_row2\" class=\"row_heading level0 row2\" >2</th>\n",
              "      <td id=\"T_ed332_row2_col0\" class=\"data row2 col0\" >one</td>\n",
              "      <td id=\"T_ed332_row2_col1\" class=\"data row2 col1\" >25183</td>\n",
              "    </tr>\n",
              "    <tr>\n",
              "      <th id=\"T_ed332_level0_row3\" class=\"row_heading level0 row3\" >3</th>\n",
              "      <td id=\"T_ed332_row3_col0\" class=\"data row3 col0\" >like</td>\n",
              "      <td id=\"T_ed332_row3_col1\" class=\"data row3 col1\" >21882</td>\n",
              "    </tr>\n",
              "    <tr>\n",
              "      <th id=\"T_ed332_level0_row4\" class=\"row_heading level0 row4\" >4</th>\n",
              "      <td id=\"T_ed332_row4_col0\" class=\"data row4 col0\" >even</td>\n",
              "      <td id=\"T_ed332_row4_col1\" class=\"data row4 col1\" >15098</td>\n",
              "    </tr>\n",
              "    <tr>\n",
              "      <th id=\"T_ed332_level0_row5\" class=\"row_heading level0 row5\" >5</th>\n",
              "      <td id=\"T_ed332_row5_col0\" class=\"data row5 col0\" >bad</td>\n",
              "      <td id=\"T_ed332_row5_col1\" class=\"data row5 col1\" >14362</td>\n",
              "    </tr>\n",
              "    <tr>\n",
              "      <th id=\"T_ed332_level0_row6\" class=\"row_heading level0 row6\" >6</th>\n",
              "      <td id=\"T_ed332_row6_col0\" class=\"data row6 col0\" >good</td>\n",
              "      <td id=\"T_ed332_row6_col1\" class=\"data row6 col1\" >14340</td>\n",
              "    </tr>\n",
              "    <tr>\n",
              "      <th id=\"T_ed332_level0_row7\" class=\"row_heading level0 row7\" >7</th>\n",
              "      <td id=\"T_ed332_row7_col0\" class=\"data row7 col0\" >would</td>\n",
              "      <td id=\"T_ed332_row7_col1\" class=\"data row7 col1\" >13653</td>\n",
              "    </tr>\n",
              "    <tr>\n",
              "      <th id=\"T_ed332_level0_row8\" class=\"row_heading level0 row8\" >8</th>\n",
              "      <td id=\"T_ed332_row8_col0\" class=\"data row8 col0\" >really</td>\n",
              "      <td id=\"T_ed332_row8_col1\" class=\"data row8 col1\" >12293</td>\n",
              "    </tr>\n",
              "    <tr>\n",
              "      <th id=\"T_ed332_level0_row9\" class=\"row_heading level0 row9\" >9</th>\n",
              "      <td id=\"T_ed332_row9_col0\" class=\"data row9 col0\" >time</td>\n",
              "      <td id=\"T_ed332_row9_col1\" class=\"data row9 col1\" >11837</td>\n",
              "    </tr>\n",
              "    <tr>\n",
              "      <th id=\"T_ed332_level0_row10\" class=\"row_heading level0 row10\" >10</th>\n",
              "      <td id=\"T_ed332_row10_col0\" class=\"data row10 col0\" >see</td>\n",
              "      <td id=\"T_ed332_row10_col1\" class=\"data row10 col1\" >10654</td>\n",
              "    </tr>\n",
              "    <tr>\n",
              "      <th id=\"T_ed332_level0_row11\" class=\"row_heading level0 row11\" >11</th>\n",
              "      <td id=\"T_ed332_row11_col0\" class=\"data row11 col0\" >dont</td>\n",
              "      <td id=\"T_ed332_row11_col1\" class=\"data row11 col1\" >10255</td>\n",
              "    </tr>\n",
              "    <tr>\n",
              "      <th id=\"T_ed332_level0_row12\" class=\"row_heading level0 row12\" >12</th>\n",
              "      <td id=\"T_ed332_row12_col0\" class=\"data row12 col0\" >get</td>\n",
              "      <td id=\"T_ed332_row12_col1\" class=\"data row12 col1\" >10033</td>\n",
              "    </tr>\n",
              "    <tr>\n",
              "      <th id=\"T_ed332_level0_row13\" class=\"row_heading level0 row13\" >13</th>\n",
              "      <td id=\"T_ed332_row13_col0\" class=\"data row13 col0\" >much</td>\n",
              "      <td id=\"T_ed332_row13_col1\" class=\"data row13 col1\" >10014</td>\n",
              "    </tr>\n",
              "    <tr>\n",
              "      <th id=\"T_ed332_level0_row14\" class=\"row_heading level0 row14\" >14</th>\n",
              "      <td id=\"T_ed332_row14_col0\" class=\"data row14 col0\" >story</td>\n",
              "      <td id=\"T_ed332_row14_col1\" class=\"data row14 col1\" >9904</td>\n",
              "    </tr>\n",
              "    <tr>\n",
              "      <th id=\"T_ed332_level0_row15\" class=\"row_heading level0 row15\" >15</th>\n",
              "      <td id=\"T_ed332_row15_col0\" class=\"data row15 col0\" >people</td>\n",
              "      <td id=\"T_ed332_row15_col1\" class=\"data row15 col1\" >9237</td>\n",
              "    </tr>\n",
              "    <tr>\n",
              "      <th id=\"T_ed332_level0_row16\" class=\"row_heading level0 row16\" >16</th>\n",
              "      <td id=\"T_ed332_row16_col0\" class=\"data row16 col0\" >could</td>\n",
              "      <td id=\"T_ed332_row16_col1\" class=\"data row16 col1\" >9055</td>\n",
              "    </tr>\n",
              "    <tr>\n",
              "      <th id=\"T_ed332_level0_row17\" class=\"row_heading level0 row17\" >17</th>\n",
              "      <td id=\"T_ed332_row17_col0\" class=\"data row17 col0\" >make</td>\n",
              "      <td id=\"T_ed332_row17_col1\" class=\"data row17 col1\" >9015</td>\n",
              "    </tr>\n",
              "    <tr>\n",
              "      <th id=\"T_ed332_level0_row18\" class=\"row_heading level0 row18\" >18</th>\n",
              "      <td id=\"T_ed332_row18_col0\" class=\"data row18 col0\" >movies</td>\n",
              "      <td id=\"T_ed332_row18_col1\" class=\"data row18 col1\" >8505</td>\n",
              "    </tr>\n",
              "    <tr>\n",
              "      <th id=\"T_ed332_level0_row19\" class=\"row_heading level0 row19\" >19</th>\n",
              "      <td id=\"T_ed332_row19_col0\" class=\"data row19 col0\" >made</td>\n",
              "      <td id=\"T_ed332_row19_col1\" class=\"data row19 col1\" >8472</td>\n",
              "    </tr>\n",
              "  </tbody>\n",
              "</table>\n"
            ]
          },
          "metadata": {},
          "execution_count": 16
        }
      ]
    },
    {
      "cell_type": "markdown",
      "source": [
        "## Feature Extraction"
      ],
      "metadata": {
        "id": "GMCwzDXPn-v_"
      }
    },
    {
      "cell_type": "code",
      "source": [
        "def vectorize(train_text, test_text, isTfIdf=False, isBinary=False, ngram_min=1, ngram_max=1):\n",
        "  # create the transform\n",
        "  if (isTfIdf == False):\n",
        "    vectorizer = CountVectorizer(binary=isBinary,  ngram_range=(ngram_min,ngram_max))\n",
        "  else:\n",
        "    vectorizer = TfidfVectorizer(ngram_range=(ngram_min,ngram_max))\n",
        "\n",
        "  # tokenize and build vocab\n",
        "  vectorizer.fit(train_text)\n",
        "\n",
        "  # encode document\n",
        "  training_features = vectorizer.transform(train_text)\n",
        "  test_features = vectorizer.transform(test_text)\n",
        "  return training_features, test_features"
      ],
      "metadata": {
        "id": "o-FnqLeon0CP"
      },
      "execution_count": 17,
      "outputs": []
    },
    {
      "cell_type": "markdown",
      "source": [
        "## Model Building"
      ],
      "metadata": {
        "id": "YCslnIKhn3XF"
      }
    },
    {
      "cell_type": "code",
      "source": [
        "# Split the data into training and testing data - 90% train and 10% test\n",
        "from sklearn.model_selection import train_test_split\n",
        "X_train, X_test, y_train, y_test  = train_test_split(df['review'], df['sentiment'], test_size = 0.1, random_state = 100)"
      ],
      "metadata": {
        "id": "eYFZXok_8MYw"
      },
      "execution_count": 18,
      "outputs": []
    },
    {
      "cell_type": "code",
      "source": [
        "print(X_train.shape)\n",
        "print(type(X_train))\n",
        "print(X_test.shape)\n",
        "print(type(X_test))\n",
        "\n",
        "print(y_train.shape)\n",
        "print(type(y_train))\n",
        "print(y_test.shape)\n",
        "print(type(y_test))"
      ],
      "metadata": {
        "id": "jNU_fIJ1AOvL",
        "colab": {
          "base_uri": "https://localhost:8080/"
        },
        "outputId": "4b2690dd-e561-4f31-931d-3fe29cd8f376"
      },
      "execution_count": 19,
      "outputs": [
        {
          "output_type": "stream",
          "name": "stdout",
          "text": [
            "(45000,)\n",
            "<class 'pandas.core.series.Series'>\n",
            "(5000,)\n",
            "<class 'pandas.core.series.Series'>\n",
            "(45000,)\n",
            "<class 'pandas.core.series.Series'>\n",
            "(5000,)\n",
            "<class 'pandas.core.series.Series'>\n"
          ]
        }
      ]
    },
    {
      "cell_type": "markdown",
      "source": [
        ""
      ],
      "metadata": {
        "id": "g8vA1gG1_XNw"
      }
    },
    {
      "cell_type": "code",
      "source": [
        "X_train"
      ],
      "metadata": {
        "colab": {
          "base_uri": "https://localhost:8080/"
        },
        "id": "Jpau-6rAkKOi",
        "outputId": "ee612fd5-f036-425c-cb50-f72de5389ad4"
      },
      "execution_count": 20,
      "outputs": [
        {
          "output_type": "execute_result",
          "data": {
            "text/plain": [
              "23756    [cant, really, remember, details, movie, excep...\n",
              "39754    [pleasantly, surprised, find, enjoyable, film,...\n",
              "32064    [brilliant, acting, excellent, plot, wonderful...\n",
              "17972    [went, along, movie, trepidation, original, ma...\n",
              "6130     [overall, film, ok, think, better, sepet, much...\n",
              "                               ...                        \n",
              "16304    [although, technically, advanced, film, seen, ...\n",
              "79       [film, took, surprise, make, habit, finding, l...\n",
              "12119    [im, sorry, even, tj, hookers, adrian, zmed, c...\n",
              "14147    [movie, considered, academy, award, enjoy, mov...\n",
              "38408    [talk, radio, sees, man, somewhat, accidentall...\n",
              "Name: review, Length: 45000, dtype: object"
            ]
          },
          "metadata": {},
          "execution_count": 20
        }
      ]
    },
    {
      "cell_type": "code",
      "source": [
        "X_train = X_train.map(' '.join)\n",
        "X_test = X_test.map(' '.join)"
      ],
      "metadata": {
        "id": "4v7xR3BqGMRt"
      },
      "execution_count": 21,
      "outputs": []
    },
    {
      "cell_type": "code",
      "source": [
        "X_test"
      ],
      "metadata": {
        "colab": {
          "base_uri": "https://localhost:8080/"
        },
        "id": "AeuLcrb9G4Jh",
        "outputId": "5eb06385-983a-484d-dedb-33ab0b3e1c47"
      },
      "execution_count": 22,
      "outputs": [
        {
          "output_type": "execute_result",
          "data": {
            "text/plain": [
              "4253     documentary homeless women interesting sense f...\n",
              "30076    well done whole movie grudge going around kill...\n",
              "48047    strange fate people looking discount bin dvd r...\n",
              "1666     goes especially lawyers cops puerto ricowhich ...\n",
              "30740    first explanation despite headline im giving f...\n",
              "                               ...                        \n",
              "9701     im usually inclined write reviews films dont t...\n",
              "1304     one best movies one favorites movie good actin...\n",
              "49735    star rating unmissable good okay could go meal...\n",
              "33756    one movies released type situation made think ...\n",
              "31171    ex wife saw intrigued trailer film waited come...\n",
              "Name: review, Length: 5000, dtype: object"
            ]
          },
          "metadata": {},
          "execution_count": 22
        }
      ]
    },
    {
      "cell_type": "code",
      "source": [
        "model = LinearSVC(max_iter=40000)"
      ],
      "metadata": {
        "id": "YBvnPfBQbum5"
      },
      "execution_count": 23,
      "outputs": []
    },
    {
      "cell_type": "markdown",
      "source": [
        "## Implement Different Feature Engineering techniques"
      ],
      "metadata": {
        "id": "b2pORFpCogLy"
      }
    },
    {
      "cell_type": "markdown",
      "source": [
        "### 1. Count Vectorizer"
      ],
      "metadata": {
        "id": "V243OdlSoNXw"
      }
    },
    {
      "cell_type": "code",
      "source": [
        "training_features, test_features =  vectorize(train_text=X_train, test_text=X_test)\n",
        "model.fit(training_features, y_train)\n",
        "y_pred = model.predict(test_features)\n",
        "acc = accuracy_score(y_test,y_pred)\n",
        "print(\"Test Accuracy for Count Vectorizer\", acc)"
      ],
      "metadata": {
        "id": "lLjVfh-c6azG",
        "colab": {
          "base_uri": "https://localhost:8080/"
        },
        "outputId": "780c292e-2450-4223-e393-28923e8e72f9"
      },
      "execution_count": 24,
      "outputs": [
        {
          "output_type": "stream",
          "name": "stdout",
          "text": [
            "Test Accuracy for Count Vectorizer 0.8688\n"
          ]
        }
      ]
    },
    {
      "cell_type": "markdown",
      "source": [
        "### 2. Count Vectorizer Binary = True"
      ],
      "metadata": {
        "id": "vEWBqNc3oaHs"
      }
    },
    {
      "cell_type": "code",
      "source": [
        "training_features, test_features =  vectorize(train_text=X_train, test_text=X_test,isBinary=True)\n",
        "model.fit(training_features, y_train)\n",
        "y_pred = model.predict(test_features)\n",
        "acc = accuracy_score(y_test,y_pred)\n",
        "print(\"Test Accuracy for Count Vectorizer Binary=True\", acc)"
      ],
      "metadata": {
        "colab": {
          "base_uri": "https://localhost:8080/"
        },
        "id": "0ouFpTrQ51YK",
        "outputId": "55ebeed8-4af2-4dbe-dcc5-6ea90209b6a1"
      },
      "execution_count": 25,
      "outputs": [
        {
          "output_type": "stream",
          "name": "stdout",
          "text": [
            "Test Accuracy for Count Vectorizer Binary=True 0.8732\n"
          ]
        }
      ]
    },
    {
      "cell_type": "markdown",
      "source": [
        "### 3. Count Vectorizer n_gram range(1,2)"
      ],
      "metadata": {
        "id": "G5EBilFbop4V"
      }
    },
    {
      "cell_type": "code",
      "source": [
        "training_features, test_features =  vectorize(train_text=X_train, test_text=X_test,ngram_min=1,ngram_max=2)\n",
        "model.fit(training_features, y_train)\n",
        "y_pred = model.predict(test_features)\n",
        "acc = accuracy_score(y_test,y_pred)\n",
        "print(\"Test Accuracy for Count Vectorizer n-gram range (1,2)\", acc)"
      ],
      "metadata": {
        "colab": {
          "base_uri": "https://localhost:8080/"
        },
        "id": "5aCv7VwwC-wm",
        "outputId": "03d45fdb-7ac1-46c7-ec84-aa07c175f75e"
      },
      "execution_count": 26,
      "outputs": [
        {
          "output_type": "stream",
          "name": "stdout",
          "text": [
            "Test Accuracy for Count Vectorizer n-gram range (1,2) 0.9026\n"
          ]
        }
      ]
    },
    {
      "cell_type": "markdown",
      "source": [
        "### 4. Count Vectorizer n_gram range(1,3)"
      ],
      "metadata": {
        "id": "yinu-8zuo1Sr"
      }
    },
    {
      "cell_type": "code",
      "source": [
        "training_features, test_features =  vectorize(train_text=X_train, test_text=X_test,ngram_min=1,ngram_max=3)\n",
        "model.fit(training_features, y_train)\n",
        "y_pred = model.predict(test_features)\n",
        "acc = accuracy_score(y_test,y_pred)\n",
        "print(\"Test Accuracy for Count Vectorizer  n-gram range (1,3)\", acc)"
      ],
      "metadata": {
        "colab": {
          "base_uri": "https://localhost:8080/"
        },
        "id": "MsQ8gaNk6xZx",
        "outputId": "46992bb5-ca82-4f4f-aaf1-27f95b54b43d"
      },
      "execution_count": 27,
      "outputs": [
        {
          "output_type": "stream",
          "name": "stdout",
          "text": [
            "Test Accuracy for Count Vectorizer  n-gram range (1,3) 0.8992\n"
          ]
        }
      ]
    },
    {
      "cell_type": "markdown",
      "source": [
        "### 5. Count Vectorizer n_gram range(2,3)"
      ],
      "metadata": {
        "id": "O-nB5b9Xo4Nv"
      }
    },
    {
      "cell_type": "code",
      "source": [
        "training_features, test_features =  vectorize(train_text=X_train, test_text=X_test,ngram_min=2,ngram_max=3)\n",
        "model.fit(training_features, y_train)\n",
        "y_pred = model.predict(test_features)\n",
        "acc = accuracy_score(y_test,y_pred)\n",
        "print(\"Test Accuracy for Count Vectorizer  n-gram range (2,3)\", acc)"
      ],
      "metadata": {
        "colab": {
          "base_uri": "https://localhost:8080/"
        },
        "id": "3E3Lik1fDHP-",
        "outputId": "41914ebb-5d8e-41f4-dd4e-28afab2615ba"
      },
      "execution_count": 28,
      "outputs": [
        {
          "output_type": "stream",
          "name": "stdout",
          "text": [
            "Test Accuracy for Count Vectorizer  n-gram range (2,3) 0.862\n"
          ]
        }
      ]
    },
    {
      "cell_type": "markdown",
      "source": [
        "### 6. Tf-Idf Vectorizer"
      ],
      "metadata": {
        "id": "GMudRtlgo9zj"
      }
    },
    {
      "cell_type": "code",
      "source": [
        "training_features, test_features =  vectorize(train_text=X_train, test_text=X_test,isTfIdf=True)\n",
        "model.fit(training_features, y_train)\n",
        "y_pred = model.predict(test_features)\n",
        "acc = accuracy_score(y_test,y_pred)\n",
        "print(\"Test Accuracy for Tf-Idf Vectorizer)\", acc)\n"
      ],
      "metadata": {
        "colab": {
          "base_uri": "https://localhost:8080/"
        },
        "id": "kStiu-YFDK52",
        "outputId": "16bdef60-6728-418f-9ba4-f911d0bc401f"
      },
      "execution_count": 29,
      "outputs": [
        {
          "output_type": "stream",
          "name": "stdout",
          "text": [
            "Test Accuracy for Tf-Idf Vectorizer) 0.899\n"
          ]
        }
      ]
    },
    {
      "cell_type": "markdown",
      "source": [
        "### 7. Tf-Idf Vectorizer n_gram range(1,2)"
      ],
      "metadata": {
        "id": "S9MxnC9wpG6G"
      }
    },
    {
      "cell_type": "code",
      "source": [
        "training_features, test_features =  vectorize(train_text=X_train, test_text=X_test,isTfIdf=True, ngram_min=1,ngram_max=2)\n",
        "model.fit(training_features, y_train)\n",
        "y_pred = model.predict(test_features)\n",
        "acc = accuracy_score(y_test,y_pred)\n",
        "print(\"Test Accuracy for Tf-Idf Vectorizer  n-gram range (1,2)\", acc)"
      ],
      "metadata": {
        "colab": {
          "base_uri": "https://localhost:8080/"
        },
        "id": "9n4qJJH7cSe_",
        "outputId": "b80e1aca-f07e-4dfb-f298-6b24d553cbe4"
      },
      "execution_count": 30,
      "outputs": [
        {
          "output_type": "stream",
          "name": "stdout",
          "text": [
            "Test Accuracy for Tf-Idf Vectorizer  n-gram range (1,2) 0.911\n"
          ]
        }
      ]
    },
    {
      "cell_type": "markdown",
      "source": [
        "### 8. Tf-Idf Vectorizer n_gram range(1,3)"
      ],
      "metadata": {
        "id": "FAQSKo3vpMg_"
      }
    },
    {
      "cell_type": "code",
      "source": [
        "training_features, test_features =  vectorize(train_text=X_train, test_text=X_test,isTfIdf=True, ngram_min=1,ngram_max=3)\n",
        "model.fit(training_features, y_train)\n",
        "y_pred = model.predict(test_features)\n",
        "acc = accuracy_score(y_test,y_pred)\n",
        "print(\"Test Accuracy for Tf-Idf Vectorizer  n-gram range (1,3)\", acc)"
      ],
      "metadata": {
        "colab": {
          "base_uri": "https://localhost:8080/"
        },
        "id": "44qnKzzLci98",
        "outputId": "23300a01-b9ef-45f0-bb74-1498a49cb6ea"
      },
      "execution_count": 31,
      "outputs": [
        {
          "output_type": "stream",
          "name": "stdout",
          "text": [
            "Test Accuracy for Tf-Idf Vectorizer  n-gram range (1,3) 0.9044\n"
          ]
        }
      ]
    },
    {
      "cell_type": "markdown",
      "source": [
        "### 9. Tf-Idf Vectorizer n_gram range(2,3)"
      ],
      "metadata": {
        "id": "iXpsI1QupPYi"
      }
    },
    {
      "cell_type": "code",
      "source": [
        "training_features, test_features =  vectorize(train_text=X_train, test_text=X_test,isTfIdf=True, ngram_min=2,ngram_max=3)\n",
        "model.fit(training_features, y_train)\n",
        "y_pred = model.predict(test_features)\n",
        "acc = accuracy_score(y_test,y_pred)\n",
        "print(\"Test Accuracy for Tf-Idf Vectorizer  n-gram range (2,3)\", acc)"
      ],
      "metadata": {
        "colab": {
          "base_uri": "https://localhost:8080/"
        },
        "id": "yeou23D5h2J_",
        "outputId": "b4699fc3-b6d3-43a4-ed10-693cf9b5a400"
      },
      "execution_count": 32,
      "outputs": [
        {
          "output_type": "stream",
          "name": "stdout",
          "text": [
            "Test Accuracy for Tf-Idf Vectorizer  n-gram range (2,3) 0.8724\n"
          ]
        }
      ]
    },
    {
      "cell_type": "markdown",
      "source": [
        "## Conclusion"
      ],
      "metadata": {
        "id": "lze6mYGFVfqg"
      }
    },
    {
      "cell_type": "markdown",
      "source": [
        "Among the different feature extraction methods, Tf-Idf Vectorizer with n-gram range(1,2) performs best with the test accuracy of 91 %."
      ],
      "metadata": {
        "id": "T9NmTKxdVjhq"
      }
    }
  ]
}