{
 "cells": [
  {
   "cell_type": "markdown",
   "metadata": {
    "id": "o-KmfKB9k8_Y"
   },
   "source": [
    "# IMDB Dataset - Sentiment Analysis."
   ]
  },
  {
   "cell_type": "markdown",
   "metadata": {
    "id": "jTanISmGOh6Y"
   },
   "source": [
    "Implement different feature engineering techniques:\n",
    "\n",
    "    1. Count Vectorizer\n",
    "    2. Count Vectorizer - Binary = True\n",
    "    3. Count Vectorizer - n-gram range (1,2)\n",
    "    4. Count Vectorizer - n-gram range (1,3)\n",
    "    5. Count Vectorizer - n-gram range (2,3)\n",
    "    6. Tf-idf Vectorizer\n",
    "    7. Tf-idf Vectorizer - n-gram range (1,2)\n",
    "    8. Tf-idf Vectorizer - n-gram range (1,3)\n",
    "    9. Tf-idf Vectorizer - n-gram range (2,3)\n",
    "   10.  Word2Vec\n",
    "\n",
    "\n"
   ]
  },
  {
   "cell_type": "markdown",
   "metadata": {
    "id": "odjykGyZk9C3"
   },
   "source": [
    "## Importing Namespaces"
   ]
  },
  {
   "cell_type": "code",
   "execution_count": 1,
   "metadata": {
    "colab": {
     "base_uri": "https://localhost:8080/"
    },
    "id": "KI5jcHxGk-aq",
    "outputId": "181e1f15-2ec2-4038-fa6c-be02e0a8775e"
   },
   "outputs": [
    {
     "name": "stderr",
     "output_type": "stream",
     "text": [
      "[nltk_data] Downloading package stopwords to\n",
      "[nltk_data]     C:\\Users\\srivi\\AppData\\Roaming\\nltk_data...\n",
      "[nltk_data]   Package stopwords is already up-to-date!\n"
     ]
    }
   ],
   "source": [
    "import pandas as pd\n",
    "import matplotlib.pyplot as plt\n",
    "import seaborn as sns\n",
    "from collections import Counter\n",
    "import re\n",
    "import string\n",
    "import nltk\n",
    "from sklearn.svm import LinearSVC\n",
    "\n",
    "from nltk.corpus import stopwords\n",
    "from sklearn.metrics import accuracy_score\n",
    "nltk.download('stopwords')\n",
    "from sklearn.feature_extraction.text import CountVectorizer\n",
    "from sklearn.feature_extraction.text import TfidfVectorizer"
   ]
  },
  {
   "cell_type": "code",
   "execution_count": 2,
   "metadata": {},
   "outputs": [],
   "source": [
    "import numpy as np"
   ]
  },
  {
   "cell_type": "markdown",
   "metadata": {
    "id": "4YjfFf83lMtw"
   },
   "source": [
    "## Load the imdb Dataset"
   ]
  },
  {
   "cell_type": "code",
   "execution_count": 3,
   "metadata": {
    "id": "XcwSN0Yev8rJ"
   },
   "outputs": [],
   "source": [
    "df = pd.read_csv('IMDB Dataset.csv')"
   ]
  },
  {
   "cell_type": "code",
   "execution_count": 4,
   "metadata": {
    "colab": {
     "base_uri": "https://localhost:8080/",
     "height": 206
    },
    "id": "V648efmEwDck",
    "outputId": "cc333fa9-6783-4264-ac27-d41b9da11c0f"
   },
   "outputs": [
    {
     "data": {
      "text/html": [
       "<div>\n",
       "<style scoped>\n",
       "    .dataframe tbody tr th:only-of-type {\n",
       "        vertical-align: middle;\n",
       "    }\n",
       "\n",
       "    .dataframe tbody tr th {\n",
       "        vertical-align: top;\n",
       "    }\n",
       "\n",
       "    .dataframe thead th {\n",
       "        text-align: right;\n",
       "    }\n",
       "</style>\n",
       "<table border=\"1\" class=\"dataframe\">\n",
       "  <thead>\n",
       "    <tr style=\"text-align: right;\">\n",
       "      <th></th>\n",
       "      <th>review</th>\n",
       "      <th>sentiment</th>\n",
       "    </tr>\n",
       "  </thead>\n",
       "  <tbody>\n",
       "    <tr>\n",
       "      <th>0</th>\n",
       "      <td>One of the other reviewers has mentioned that ...</td>\n",
       "      <td>positive</td>\n",
       "    </tr>\n",
       "    <tr>\n",
       "      <th>1</th>\n",
       "      <td>A wonderful little production. &lt;br /&gt;&lt;br /&gt;The...</td>\n",
       "      <td>positive</td>\n",
       "    </tr>\n",
       "    <tr>\n",
       "      <th>2</th>\n",
       "      <td>I thought this was a wonderful way to spend ti...</td>\n",
       "      <td>positive</td>\n",
       "    </tr>\n",
       "    <tr>\n",
       "      <th>3</th>\n",
       "      <td>Basically there's a family where a little boy ...</td>\n",
       "      <td>negative</td>\n",
       "    </tr>\n",
       "    <tr>\n",
       "      <th>4</th>\n",
       "      <td>Petter Mattei's \"Love in the Time of Money\" is...</td>\n",
       "      <td>positive</td>\n",
       "    </tr>\n",
       "  </tbody>\n",
       "</table>\n",
       "</div>"
      ],
      "text/plain": [
       "                                              review sentiment\n",
       "0  One of the other reviewers has mentioned that ...  positive\n",
       "1  A wonderful little production. <br /><br />The...  positive\n",
       "2  I thought this was a wonderful way to spend ti...  positive\n",
       "3  Basically there's a family where a little boy ...  negative\n",
       "4  Petter Mattei's \"Love in the Time of Money\" is...  positive"
      ]
     },
     "execution_count": 4,
     "metadata": {},
     "output_type": "execute_result"
    }
   ],
   "source": [
    "df.head()"
   ]
  },
  {
   "cell_type": "markdown",
   "metadata": {
    "id": "XNBxVPW_lTzx"
   },
   "source": [
    "## EDA"
   ]
  },
  {
   "cell_type": "code",
   "execution_count": 5,
   "metadata": {
    "colab": {
     "base_uri": "https://localhost:8080/"
    },
    "id": "XzT_Ssi4wFaE",
    "outputId": "aa34044b-4367-4ffc-941c-a071c40129c7"
   },
   "outputs": [
    {
     "name": "stdout",
     "output_type": "stream",
     "text": [
      "<class 'pandas.core.frame.DataFrame'>\n",
      "RangeIndex: 50000 entries, 0 to 49999\n",
      "Data columns (total 2 columns):\n",
      " #   Column     Non-Null Count  Dtype \n",
      "---  ------     --------------  ----- \n",
      " 0   review     50000 non-null  object\n",
      " 1   sentiment  50000 non-null  object\n",
      "dtypes: object(2)\n",
      "memory usage: 781.4+ KB\n"
     ]
    }
   ],
   "source": [
    "df.info()"
   ]
  },
  {
   "cell_type": "code",
   "execution_count": 6,
   "metadata": {
    "colab": {
     "base_uri": "https://localhost:8080/"
    },
    "id": "5eJsPNbowHDm",
    "outputId": "e2ccda89-958d-49eb-87d5-f5dece55da75"
   },
   "outputs": [
    {
     "data": {
      "text/plain": [
       "Index(['review', 'sentiment'], dtype='object')"
      ]
     },
     "execution_count": 6,
     "metadata": {},
     "output_type": "execute_result"
    }
   ],
   "source": [
    "df.columns"
   ]
  },
  {
   "cell_type": "code",
   "execution_count": 7,
   "metadata": {
    "colab": {
     "base_uri": "https://localhost:8080/"
    },
    "id": "33CMgpebwNCF",
    "outputId": "45081b45-34c4-4f2c-c695-d3d56f086c56"
   },
   "outputs": [
    {
     "data": {
      "text/plain": [
       "positive    25000\n",
       "negative    25000\n",
       "Name: sentiment, dtype: int64"
      ]
     },
     "execution_count": 7,
     "metadata": {},
     "output_type": "execute_result"
    }
   ],
   "source": [
    "df['sentiment'].value_counts()"
   ]
  },
  {
   "cell_type": "code",
   "execution_count": 8,
   "metadata": {
    "colab": {
     "base_uri": "https://localhost:8080/",
     "height": 296
    },
    "id": "jaNSMuIRwVkC",
    "outputId": "40e4a247-c31c-4004-e2a9-a721d1379cf7"
   },
   "outputs": [
    {
     "data": {
      "text/plain": [
       "<AxesSubplot:xlabel='sentiment', ylabel='count'>"
      ]
     },
     "execution_count": 8,
     "metadata": {},
     "output_type": "execute_result"
    },
    {
     "data": {
      "image/png": "[encoded data removed]",
      "text/plain": [
       "<Figure size 432x288 with 1 Axes>"
      ]
     },
     "metadata": {
      "needs_background": "light"
     },
     "output_type": "display_data"
    }
   ],
   "source": [
    "sns.countplot(x='sentiment',data=df)"
   ]
  },
  {
   "cell_type": "code",
   "execution_count": 9,
   "metadata": {
    "colab": {
     "base_uri": "https://localhost:8080/"
    },
    "id": "LLiLwtAbxLB6",
    "outputId": "1e7b4ab9-b95e-4ea9-eff4-ead62ce23da5"
   },
   "outputs": [
    {
     "data": {
      "text/plain": [
       "count        50000\n",
       "unique           2\n",
       "top       positive\n",
       "freq         25000\n",
       "Name: sentiment, dtype: object"
      ]
     },
     "execution_count": 9,
     "metadata": {},
     "output_type": "execute_result"
    }
   ],
   "source": [
    "df['sentiment'].describe()"
   ]
  },
  {
   "cell_type": "markdown",
   "metadata": {
    "id": "W2aFEO3FmuSb"
   },
   "source": [
    "### Text Cleaning"
   ]
  },
  {
   "cell_type": "code",
   "execution_count": 10,
   "metadata": {
    "id": "EL6Gayjpxr2T"
   },
   "outputs": [],
   "source": [
    "def clean_text(text):\n",
    "  # split into tokens by white space\n",
    "  words = text.split()  \n",
    "  tokens = [word.lower() for word in words]\n",
    "  # prepare regex for char filtering\n",
    "  re_punc = re.compile('[%s]' % re.escape(string.punctuation))\n",
    "  # remove punctuation from each word\n",
    "  tokens = [re_punc.sub('', w) for w in tokens]\n",
    "  re_br = re.compile('(br)$')\n",
    "  tokens = [re_br.sub('', w) for w in tokens]\n",
    "  # remove remaining tokens that are not alphabetic\n",
    "  tokens = [word for word in tokens if word.isalpha()]\n",
    "  # filter out stop words\n",
    "  stop_words = set(stopwords.words('english'))\n",
    "  tokens = [word for word in tokens if not word in stop_words]\n",
    "  # filter out short tokens\n",
    "  tokens = [word for word in tokens if len(word) > 1]  \n",
    "  return tokens\n"
   ]
  },
  {
   "cell_type": "code",
   "execution_count": 11,
   "metadata": {
    "id": "PbRj6KLZzI6v"
   },
   "outputs": [],
   "source": [
    "df['review'] = df['review'].apply(lambda x:clean_text(x))"
   ]
  },
  {
   "cell_type": "code",
   "execution_count": 12,
   "metadata": {
    "colab": {
     "base_uri": "https://localhost:8080/",
     "height": 206
    },
    "id": "RVnK8p36zbZX",
    "outputId": "0d8c917b-bee5-4613-cfc0-73021504c36b"
   },
   "outputs": [
    {
     "data": {
      "text/html": [
       "<div>\n",
       "<style scoped>\n",
       "    .dataframe tbody tr th:only-of-type {\n",
       "        vertical-align: middle;\n",
       "    }\n",
       "\n",
       "    .dataframe tbody tr th {\n",
       "        vertical-align: top;\n",
       "    }\n",
       "\n",
       "    .dataframe thead th {\n",
       "        text-align: right;\n",
       "    }\n",
       "</style>\n",
       "<table border=\"1\" class=\"dataframe\">\n",
       "  <thead>\n",
       "    <tr style=\"text-align: right;\">\n",
       "      <th></th>\n",
       "      <th>review</th>\n",
       "      <th>sentiment</th>\n",
       "    </tr>\n",
       "  </thead>\n",
       "  <tbody>\n",
       "    <tr>\n",
       "      <th>0</th>\n",
       "      <td>[one, reviewers, mentioned, watching, oz, epis...</td>\n",
       "      <td>positive</td>\n",
       "    </tr>\n",
       "    <tr>\n",
       "      <th>1</th>\n",
       "      <td>[wonderful, little, production, filming, techn...</td>\n",
       "      <td>positive</td>\n",
       "    </tr>\n",
       "    <tr>\n",
       "      <th>2</th>\n",
       "      <td>[thought, wonderful, way, spend, time, hot, su...</td>\n",
       "      <td>positive</td>\n",
       "    </tr>\n",
       "    <tr>\n",
       "      <th>3</th>\n",
       "      <td>[basically, theres, family, little, boy, jake,...</td>\n",
       "      <td>negative</td>\n",
       "    </tr>\n",
       "    <tr>\n",
       "      <th>4</th>\n",
       "      <td>[petter, matteis, love, time, money, visually,...</td>\n",
       "      <td>positive</td>\n",
       "    </tr>\n",
       "  </tbody>\n",
       "</table>\n",
       "</div>"
      ],
      "text/plain": [
       "                                              review sentiment\n",
       "0  [one, reviewers, mentioned, watching, oz, epis...  positive\n",
       "1  [wonderful, little, production, filming, techn...  positive\n",
       "2  [thought, wonderful, way, spend, time, hot, su...  positive\n",
       "3  [basically, theres, family, little, boy, jake,...  negative\n",
       "4  [petter, matteis, love, time, money, visually,...  positive"
      ]
     },
     "execution_count": 12,
     "metadata": {},
     "output_type": "execute_result"
    }
   ],
   "source": [
    "df.head()"
   ]
  },
  {
   "cell_type": "code",
   "execution_count": 13,
   "metadata": {
    "colab": {
     "base_uri": "https://localhost:8080/",
     "height": 676
    },
    "id": "ARFlo4TA4A2J",
    "outputId": "8d818765-fd6c-4517-cce6-60a148677e14"
   },
   "outputs": [
    {
     "data": {
      "text/html": [
       "<style  type=\"text/css\" >\n",
       "#T_4ff41_row0_col1{\n",
       "            background-color:  #08306b;\n",
       "            color:  #f1f1f1;\n",
       "        }#T_4ff41_row1_col1{\n",
       "            background-color:  #0a539e;\n",
       "            color:  #f1f1f1;\n",
       "        }#T_4ff41_row2_col1{\n",
       "            background-color:  #69add5;\n",
       "            color:  #000000;\n",
       "        }#T_4ff41_row3_col1{\n",
       "            background-color:  #afd1e7;\n",
       "            color:  #000000;\n",
       "        }#T_4ff41_row4_col1{\n",
       "            background-color:  #d5e5f4;\n",
       "            color:  #000000;\n",
       "        }#T_4ff41_row5_col1{\n",
       "            background-color:  #e1edf8;\n",
       "            color:  #000000;\n",
       "        }#T_4ff41_row6_col1,#T_4ff41_row7_col1{\n",
       "            background-color:  #e3eef8;\n",
       "            color:  #000000;\n",
       "        }#T_4ff41_row8_col1{\n",
       "            background-color:  #e6f0f9;\n",
       "            color:  #000000;\n",
       "        }#T_4ff41_row9_col1{\n",
       "            background-color:  #e7f0fa;\n",
       "            color:  #000000;\n",
       "        }#T_4ff41_row10_col1{\n",
       "            background-color:  #e7f1fa;\n",
       "            color:  #000000;\n",
       "        }#T_4ff41_row11_col1,#T_4ff41_row12_col1{\n",
       "            background-color:  #f1f7fd;\n",
       "            color:  #000000;\n",
       "        }#T_4ff41_row13_col1{\n",
       "            background-color:  #f4f9fe;\n",
       "            color:  #000000;\n",
       "        }#T_4ff41_row14_col1,#T_4ff41_row15_col1,#T_4ff41_row16_col1{\n",
       "            background-color:  #f5f9fe;\n",
       "            color:  #000000;\n",
       "        }#T_4ff41_row17_col1{\n",
       "            background-color:  #f5fafe;\n",
       "            color:  #000000;\n",
       "        }#T_4ff41_row18_col1{\n",
       "            background-color:  #f6faff;\n",
       "            color:  #000000;\n",
       "        }#T_4ff41_row19_col1{\n",
       "            background-color:  #f7fbff;\n",
       "            color:  #000000;\n",
       "        }</style><table id=\"T_4ff41_\" ><thead>    <tr>        <th class=\"blank level0\" ></th>        <th class=\"col_heading level0 col0\" >Common_words</th>        <th class=\"col_heading level0 col1\" >count</th>    </tr></thead><tbody>\n",
       "                <tr>\n",
       "                        <th id=\"T_4ff41_level0_row0\" class=\"row_heading level0 row0\" >0</th>\n",
       "                        <td id=\"T_4ff41_row0_col0\" class=\"data row0 col0\" >movie</td>\n",
       "                        <td id=\"T_4ff41_row0_col1\" class=\"data row0 col1\" >85223</td>\n",
       "            </tr>\n",
       "            <tr>\n",
       "                        <th id=\"T_4ff41_level0_row1\" class=\"row_heading level0 row1\" >1</th>\n",
       "                        <td id=\"T_4ff41_row1_col0\" class=\"data row1 col0\" >film</td>\n",
       "                        <td id=\"T_4ff41_row1_col1\" class=\"data row1 col1\" >76028</td>\n",
       "            </tr>\n",
       "            <tr>\n",
       "                        <th id=\"T_4ff41_level0_row2\" class=\"row_heading level0 row2\" >2</th>\n",
       "                        <td id=\"T_4ff41_row2_col0\" class=\"data row2 col0\" >one</td>\n",
       "                        <td id=\"T_4ff41_row2_col1\" class=\"data row2 col1\" >51476</td>\n",
       "            </tr>\n",
       "            <tr>\n",
       "                        <th id=\"T_4ff41_level0_row3\" class=\"row_heading level0 row3\" >3</th>\n",
       "                        <td id=\"T_4ff41_row3_col0\" class=\"data row3 col0\" >like</td>\n",
       "                        <td id=\"T_4ff41_row3_col1\" class=\"data row3 col1\" >39063</td>\n",
       "            </tr>\n",
       "            <tr>\n",
       "                        <th id=\"T_4ff41_level0_row4\" class=\"row_heading level0 row4\" >4</th>\n",
       "                        <td id=\"T_4ff41_row4_col0\" class=\"data row4 col0\" >good</td>\n",
       "                        <td id=\"T_4ff41_row4_col1\" class=\"data row4 col1\" >28912</td>\n",
       "            </tr>\n",
       "            <tr>\n",
       "                        <th id=\"T_4ff41_level0_row5\" class=\"row_heading level0 row5\" >5</th>\n",
       "                        <td id=\"T_4ff41_row5_col0\" class=\"data row5 col0\" >even</td>\n",
       "                        <td id=\"T_4ff41_row5_col1\" class=\"data row5 col1\" >24582</td>\n",
       "            </tr>\n",
       "            <tr>\n",
       "                        <th id=\"T_4ff41_level0_row6\" class=\"row_heading level0 row6\" >6</th>\n",
       "                        <td id=\"T_4ff41_row6_col0\" class=\"data row6 col0\" >would</td>\n",
       "                        <td id=\"T_4ff41_row6_col1\" class=\"data row6 col1\" >24036</td>\n",
       "            </tr>\n",
       "            <tr>\n",
       "                        <th id=\"T_4ff41_level0_row7\" class=\"row_heading level0 row7\" >7</th>\n",
       "                        <td id=\"T_4ff41_row7_col0\" class=\"data row7 col0\" >time</td>\n",
       "                        <td id=\"T_4ff41_row7_col1\" class=\"data row7 col1\" >23960</td>\n",
       "            </tr>\n",
       "            <tr>\n",
       "                        <th id=\"T_4ff41_level0_row8\" class=\"row_heading level0 row8\" >8</th>\n",
       "                        <td id=\"T_4ff41_row8_col0\" class=\"data row8 col0\" >really</td>\n",
       "                        <td id=\"T_4ff41_row8_col1\" class=\"data row8 col1\" >23011</td>\n",
       "            </tr>\n",
       "            <tr>\n",
       "                        <th id=\"T_4ff41_level0_row9\" class=\"row_heading level0 row9\" >9</th>\n",
       "                        <td id=\"T_4ff41_row9_col0\" class=\"data row9 col0\" >see</td>\n",
       "                        <td id=\"T_4ff41_row9_col1\" class=\"data row9 col1\" >22640</td>\n",
       "            </tr>\n",
       "            <tr>\n",
       "                        <th id=\"T_4ff41_level0_row10\" class=\"row_heading level0 row10\" >10</th>\n",
       "                        <td id=\"T_4ff41_row10_col0\" class=\"data row10 col0\" >story</td>\n",
       "                        <td id=\"T_4ff41_row10_col1\" class=\"data row10 col1\" >22514</td>\n",
       "            </tr>\n",
       "            <tr>\n",
       "                        <th id=\"T_4ff41_level0_row11\" class=\"row_heading level0 row11\" >11</th>\n",
       "                        <td id=\"T_4ff41_row11_col0\" class=\"data row11 col0\" >well</td>\n",
       "                        <td id=\"T_4ff41_row11_col1\" class=\"data row11 col1\" >19228</td>\n",
       "            </tr>\n",
       "            <tr>\n",
       "                        <th id=\"T_4ff41_level0_row12\" class=\"row_heading level0 row12\" >12</th>\n",
       "                        <td id=\"T_4ff41_row12_col0\" class=\"data row12 col0\" >much</td>\n",
       "                        <td id=\"T_4ff41_row12_col1\" class=\"data row12 col1\" >19110</td>\n",
       "            </tr>\n",
       "            <tr>\n",
       "                        <th id=\"T_4ff41_level0_row13\" class=\"row_heading level0 row13\" >13</th>\n",
       "                        <td id=\"T_4ff41_row13_col0\" class=\"data row13 col0\" >get</td>\n",
       "                        <td id=\"T_4ff41_row13_col1\" class=\"data row13 col1\" >18244</td>\n",
       "            </tr>\n",
       "            <tr>\n",
       "                        <th id=\"T_4ff41_level0_row14\" class=\"row_heading level0 row14\" >14</th>\n",
       "                        <td id=\"T_4ff41_row14_col0\" class=\"data row14 col0\" >bad</td>\n",
       "                        <td id=\"T_4ff41_row14_col1\" class=\"data row14 col1\" >17989</td>\n",
       "            </tr>\n",
       "            <tr>\n",
       "                        <th id=\"T_4ff41_level0_row15\" class=\"row_heading level0 row15\" >15</th>\n",
       "                        <td id=\"T_4ff41_row15_col0\" class=\"data row15 col0\" >great</td>\n",
       "                        <td id=\"T_4ff41_row15_col1\" class=\"data row15 col1\" >17934</td>\n",
       "            </tr>\n",
       "            <tr>\n",
       "                        <th id=\"T_4ff41_level0_row16\" class=\"row_heading level0 row16\" >16</th>\n",
       "                        <td id=\"T_4ff41_row16_col0\" class=\"data row16 col0\" >also</td>\n",
       "                        <td id=\"T_4ff41_row16_col1\" class=\"data row16 col1\" >17857</td>\n",
       "            </tr>\n",
       "            <tr>\n",
       "                        <th id=\"T_4ff41_level0_row17\" class=\"row_heading level0 row17\" >17</th>\n",
       "                        <td id=\"T_4ff41_row17_col0\" class=\"data row17 col0\" >people</td>\n",
       "                        <td id=\"T_4ff41_row17_col1\" class=\"data row17 col1\" >17710</td>\n",
       "            </tr>\n",
       "            <tr>\n",
       "                        <th id=\"T_4ff41_level0_row18\" class=\"row_heading level0 row18\" >18</th>\n",
       "                        <td id=\"T_4ff41_row18_col0\" class=\"data row18 col0\" >first</td>\n",
       "                        <td id=\"T_4ff41_row18_col1\" class=\"data row18 col1\" >17206</td>\n",
       "            </tr>\n",
       "            <tr>\n",
       "                        <th id=\"T_4ff41_level0_row19\" class=\"row_heading level0 row19\" >19</th>\n",
       "                        <td id=\"T_4ff41_row19_col0\" class=\"data row19 col0\" >dont</td>\n",
       "                        <td id=\"T_4ff41_row19_col1\" class=\"data row19 col1\" >16925</td>\n",
       "            </tr>\n",
       "    </tbody></table>"
      ],
      "text/plain": [
       "<pandas.io.formats.style.Styler at 0x18e0c28e910>"
      ]
     },
     "execution_count": 13,
     "metadata": {},
     "output_type": "execute_result"
    }
   ],
   "source": [
    "top = Counter([item for row in df['review'] for item in row])\n",
    "temp = pd.DataFrame(top.most_common(20))\n",
    "temp.columns = ['Common_words','count']\n",
    "temp.style.background_gradient(cmap='Blues')"
   ]
  },
  {
   "cell_type": "code",
   "execution_count": 14,
   "metadata": {
    "id": "zKBlR-1P49qm"
   },
   "outputs": [],
   "source": [
    "bad_review = df[df['sentiment'] == 'negative']\n",
    "good_review = df[df['sentiment'] == 'positive']"
   ]
  },
  {
   "cell_type": "code",
   "execution_count": 15,
   "metadata": {
    "colab": {
     "base_uri": "https://localhost:8080/",
     "height": 424
    },
    "id": "hK_yz6Eh7Wi-",
    "outputId": "31bc04ac-cdaa-4a1a-dfb8-3a33654820ae"
   },
   "outputs": [
    {
     "data": {
      "text/html": [
       "<div>\n",
       "<style scoped>\n",
       "    .dataframe tbody tr th:only-of-type {\n",
       "        vertical-align: middle;\n",
       "    }\n",
       "\n",
       "    .dataframe tbody tr th {\n",
       "        vertical-align: top;\n",
       "    }\n",
       "\n",
       "    .dataframe thead th {\n",
       "        text-align: right;\n",
       "    }\n",
       "</style>\n",
       "<table border=\"1\" class=\"dataframe\">\n",
       "  <thead>\n",
       "    <tr style=\"text-align: right;\">\n",
       "      <th></th>\n",
       "      <th>review</th>\n",
       "      <th>sentiment</th>\n",
       "    </tr>\n",
       "  </thead>\n",
       "  <tbody>\n",
       "    <tr>\n",
       "      <th>0</th>\n",
       "      <td>[one, reviewers, mentioned, watching, oz, epis...</td>\n",
       "      <td>positive</td>\n",
       "    </tr>\n",
       "    <tr>\n",
       "      <th>1</th>\n",
       "      <td>[wonderful, little, production, filming, techn...</td>\n",
       "      <td>positive</td>\n",
       "    </tr>\n",
       "    <tr>\n",
       "      <th>2</th>\n",
       "      <td>[thought, wonderful, way, spend, time, hot, su...</td>\n",
       "      <td>positive</td>\n",
       "    </tr>\n",
       "    <tr>\n",
       "      <th>4</th>\n",
       "      <td>[petter, matteis, love, time, money, visually,...</td>\n",
       "      <td>positive</td>\n",
       "    </tr>\n",
       "    <tr>\n",
       "      <th>5</th>\n",
       "      <td>[probably, alltime, favorite, movie, story, se...</td>\n",
       "      <td>positive</td>\n",
       "    </tr>\n",
       "    <tr>\n",
       "      <th>...</th>\n",
       "      <td>...</td>\n",
       "      <td>...</td>\n",
       "    </tr>\n",
       "    <tr>\n",
       "      <th>49983</th>\n",
       "      <td>[loved, fan, original, series, always, wondere...</td>\n",
       "      <td>positive</td>\n",
       "    </tr>\n",
       "    <tr>\n",
       "      <th>49985</th>\n",
       "      <td>[imaginary, heroes, clearly, best, film, year,...</td>\n",
       "      <td>positive</td>\n",
       "    </tr>\n",
       "    <tr>\n",
       "      <th>49989</th>\n",
       "      <td>[got, one, weeks, ago, love, modern, light, fi...</td>\n",
       "      <td>positive</td>\n",
       "    </tr>\n",
       "    <tr>\n",
       "      <th>49992</th>\n",
       "      <td>[john, garfield, plays, marine, blinded, grena...</td>\n",
       "      <td>positive</td>\n",
       "    </tr>\n",
       "    <tr>\n",
       "      <th>49995</th>\n",
       "      <td>[thought, movie, right, good, job, wasnt, crea...</td>\n",
       "      <td>positive</td>\n",
       "    </tr>\n",
       "  </tbody>\n",
       "</table>\n",
       "<p>25000 rows × 2 columns</p>\n",
       "</div>"
      ],
      "text/plain": [
       "                                                  review sentiment\n",
       "0      [one, reviewers, mentioned, watching, oz, epis...  positive\n",
       "1      [wonderful, little, production, filming, techn...  positive\n",
       "2      [thought, wonderful, way, spend, time, hot, su...  positive\n",
       "4      [petter, matteis, love, time, money, visually,...  positive\n",
       "5      [probably, alltime, favorite, movie, story, se...  positive\n",
       "...                                                  ...       ...\n",
       "49983  [loved, fan, original, series, always, wondere...  positive\n",
       "49985  [imaginary, heroes, clearly, best, film, year,...  positive\n",
       "49989  [got, one, weeks, ago, love, modern, light, fi...  positive\n",
       "49992  [john, garfield, plays, marine, blinded, grena...  positive\n",
       "49995  [thought, movie, right, good, job, wasnt, crea...  positive\n",
       "\n",
       "[25000 rows x 2 columns]"
      ]
     },
     "execution_count": 15,
     "metadata": {},
     "output_type": "execute_result"
    }
   ],
   "source": [
    "good_review"
   ]
  },
  {
   "cell_type": "code",
   "execution_count": 16,
   "metadata": {
    "colab": {
     "base_uri": "https://localhost:8080/",
     "height": 676
    },
    "id": "Uh8Yzb3D7LFL",
    "outputId": "15490ed9-426c-4c26-94e7-3daa2e3e79fb"
   },
   "outputs": [
    {
     "data": {
      "text/html": [
       "<style  type=\"text/css\" >\n",
       "#T_d89c8_row0_col1{\n",
       "            background-color:  #00441b;\n",
       "            color:  #f1f1f1;\n",
       "        }#T_d89c8_row1_col1{\n",
       "            background-color:  #006729;\n",
       "            color:  #f1f1f1;\n",
       "        }#T_d89c8_row2_col1{\n",
       "            background-color:  #5ab769;\n",
       "            color:  #000000;\n",
       "        }#T_d89c8_row3_col1{\n",
       "            background-color:  #c0e6b9;\n",
       "            color:  #000000;\n",
       "        }#T_d89c8_row4_col1{\n",
       "            background-color:  #d5efcf;\n",
       "            color:  #000000;\n",
       "        }#T_d89c8_row5_col1{\n",
       "            background-color:  #e2f4dd;\n",
       "            color:  #000000;\n",
       "        }#T_d89c8_row6_col1{\n",
       "            background-color:  #e3f4de;\n",
       "            color:  #000000;\n",
       "        }#T_d89c8_row7_col1{\n",
       "            background-color:  #e6f5e1;\n",
       "            color:  #000000;\n",
       "        }#T_d89c8_row8_col1{\n",
       "            background-color:  #e7f6e3;\n",
       "            color:  #000000;\n",
       "        }#T_d89c8_row9_col1{\n",
       "            background-color:  #e9f7e5;\n",
       "            color:  #000000;\n",
       "        }#T_d89c8_row10_col1,#T_d89c8_row11_col1{\n",
       "            background-color:  #edf8e9;\n",
       "            color:  #000000;\n",
       "        }#T_d89c8_row12_col1{\n",
       "            background-color:  #eef8ea;\n",
       "            color:  #000000;\n",
       "        }#T_d89c8_row13_col1{\n",
       "            background-color:  #f2faf0;\n",
       "            color:  #000000;\n",
       "        }#T_d89c8_row14_col1{\n",
       "            background-color:  #f4fbf2;\n",
       "            color:  #000000;\n",
       "        }#T_d89c8_row15_col1{\n",
       "            background-color:  #f5fbf2;\n",
       "            color:  #000000;\n",
       "        }#T_d89c8_row16_col1{\n",
       "            background-color:  #f6fcf4;\n",
       "            color:  #000000;\n",
       "        }#T_d89c8_row17_col1,#T_d89c8_row18_col1,#T_d89c8_row19_col1{\n",
       "            background-color:  #f7fcf5;\n",
       "            color:  #000000;\n",
       "        }</style><table id=\"T_d89c8_\" ><thead>    <tr>        <th class=\"blank level0\" ></th>        <th class=\"col_heading level0 col0\" >Common_words</th>        <th class=\"col_heading level0 col1\" >count</th>    </tr></thead><tbody>\n",
       "                <tr>\n",
       "                        <th id=\"T_d89c8_level0_row0\" class=\"row_heading level0 row0\" >0</th>\n",
       "                        <td id=\"T_d89c8_row0_col0\" class=\"data row0 col0\" >film</td>\n",
       "                        <td id=\"T_d89c8_row0_col1\" class=\"data row0 col1\" >40163</td>\n",
       "            </tr>\n",
       "            <tr>\n",
       "                        <th id=\"T_d89c8_level0_row1\" class=\"row_heading level0 row1\" >1</th>\n",
       "                        <td id=\"T_d89c8_row1_col0\" class=\"data row1 col0\" >movie</td>\n",
       "                        <td id=\"T_d89c8_row1_col1\" class=\"data row1 col1\" >36704</td>\n",
       "            </tr>\n",
       "            <tr>\n",
       "                        <th id=\"T_d89c8_level0_row2\" class=\"row_heading level0 row2\" >2</th>\n",
       "                        <td id=\"T_d89c8_row2_col0\" class=\"data row2 col0\" >one</td>\n",
       "                        <td id=\"T_d89c8_row2_col1\" class=\"data row2 col1\" >26293</td>\n",
       "            </tr>\n",
       "            <tr>\n",
       "                        <th id=\"T_d89c8_level0_row3\" class=\"row_heading level0 row3\" >3</th>\n",
       "                        <td id=\"T_d89c8_row3_col0\" class=\"data row3 col0\" >like</td>\n",
       "                        <td id=\"T_d89c8_row3_col1\" class=\"data row3 col1\" >17181</td>\n",
       "            </tr>\n",
       "            <tr>\n",
       "                        <th id=\"T_d89c8_level0_row4\" class=\"row_heading level0 row4\" >4</th>\n",
       "                        <td id=\"T_d89c8_row4_col0\" class=\"data row4 col0\" >good</td>\n",
       "                        <td id=\"T_d89c8_row4_col1\" class=\"data row4 col1\" >14572</td>\n",
       "            </tr>\n",
       "            <tr>\n",
       "                        <th id=\"T_d89c8_level0_row5\" class=\"row_heading level0 row5\" >5</th>\n",
       "                        <td id=\"T_d89c8_row5_col0\" class=\"data row5 col0\" >great</td>\n",
       "                        <td id=\"T_d89c8_row5_col1\" class=\"data row5 col1\" >12810</td>\n",
       "            </tr>\n",
       "            <tr>\n",
       "                        <th id=\"T_d89c8_level0_row6\" class=\"row_heading level0 row6\" >6</th>\n",
       "                        <td id=\"T_d89c8_row6_col0\" class=\"data row6 col0\" >story</td>\n",
       "                        <td id=\"T_d89c8_row6_col1\" class=\"data row6 col1\" >12610</td>\n",
       "            </tr>\n",
       "            <tr>\n",
       "                        <th id=\"T_d89c8_level0_row7\" class=\"row_heading level0 row7\" >7</th>\n",
       "                        <td id=\"T_d89c8_row7_col0\" class=\"data row7 col0\" >time</td>\n",
       "                        <td id=\"T_d89c8_row7_col1\" class=\"data row7 col1\" >12123</td>\n",
       "            </tr>\n",
       "            <tr>\n",
       "                        <th id=\"T_d89c8_level0_row8\" class=\"row_heading level0 row8\" >8</th>\n",
       "                        <td id=\"T_d89c8_row8_col0\" class=\"data row8 col0\" >see</td>\n",
       "                        <td id=\"T_d89c8_row8_col1\" class=\"data row8 col1\" >11986</td>\n",
       "            </tr>\n",
       "            <tr>\n",
       "                        <th id=\"T_d89c8_level0_row9\" class=\"row_heading level0 row9\" >9</th>\n",
       "                        <td id=\"T_d89c8_row9_col0\" class=\"data row9 col0\" >well</td>\n",
       "                        <td id=\"T_d89c8_row9_col1\" class=\"data row9 col1\" >11406</td>\n",
       "            </tr>\n",
       "            <tr>\n",
       "                        <th id=\"T_d89c8_level0_row10\" class=\"row_heading level0 row10\" >10</th>\n",
       "                        <td id=\"T_d89c8_row10_col0\" class=\"data row10 col0\" >also</td>\n",
       "                        <td id=\"T_d89c8_row10_col1\" class=\"data row10 col1\" >10727</td>\n",
       "            </tr>\n",
       "            <tr>\n",
       "                        <th id=\"T_d89c8_level0_row11\" class=\"row_heading level0 row11\" >11</th>\n",
       "                        <td id=\"T_d89c8_row11_col0\" class=\"data row11 col0\" >really</td>\n",
       "                        <td id=\"T_d89c8_row11_col1\" class=\"data row11 col1\" >10718</td>\n",
       "            </tr>\n",
       "            <tr>\n",
       "                        <th id=\"T_d89c8_level0_row12\" class=\"row_heading level0 row12\" >12</th>\n",
       "                        <td id=\"T_d89c8_row12_col0\" class=\"data row12 col0\" >would</td>\n",
       "                        <td id=\"T_d89c8_row12_col1\" class=\"data row12 col1\" >10383</td>\n",
       "            </tr>\n",
       "            <tr>\n",
       "                        <th id=\"T_d89c8_level0_row13\" class=\"row_heading level0 row13\" >13</th>\n",
       "                        <td id=\"T_d89c8_row13_col0\" class=\"data row13 col0\" >even</td>\n",
       "                        <td id=\"T_d89c8_row13_col1\" class=\"data row13 col1\" >9484</td>\n",
       "            </tr>\n",
       "            <tr>\n",
       "                        <th id=\"T_d89c8_level0_row14\" class=\"row_heading level0 row14\" >14</th>\n",
       "                        <td id=\"T_d89c8_row14_col0\" class=\"data row14 col0\" >much</td>\n",
       "                        <td id=\"T_d89c8_row14_col1\" class=\"data row14 col1\" >9096</td>\n",
       "            </tr>\n",
       "            <tr>\n",
       "                        <th id=\"T_d89c8_level0_row15\" class=\"row_heading level0 row15\" >15</th>\n",
       "                        <td id=\"T_d89c8_row15_col0\" class=\"data row15 col0\" >first</td>\n",
       "                        <td id=\"T_d89c8_row15_col1\" class=\"data row15 col1\" >8988</td>\n",
       "            </tr>\n",
       "            <tr>\n",
       "                        <th id=\"T_d89c8_level0_row16\" class=\"row_heading level0 row16\" >16</th>\n",
       "                        <td id=\"T_d89c8_row16_col0\" class=\"data row16 col0\" >films</td>\n",
       "                        <td id=\"T_d89c8_row16_col1\" class=\"data row16 col1\" >8581</td>\n",
       "            </tr>\n",
       "            <tr>\n",
       "                        <th id=\"T_d89c8_level0_row17\" class=\"row_heading level0 row17\" >17</th>\n",
       "                        <td id=\"T_d89c8_row17_col0\" class=\"data row17 col0\" >love</td>\n",
       "                        <td id=\"T_d89c8_row17_col1\" class=\"data row17 col1\" >8500</td>\n",
       "            </tr>\n",
       "            <tr>\n",
       "                        <th id=\"T_d89c8_level0_row18\" class=\"row_heading level0 row18\" >18</th>\n",
       "                        <td id=\"T_d89c8_row18_col0\" class=\"data row18 col0\" >people</td>\n",
       "                        <td id=\"T_d89c8_row18_col1\" class=\"data row18 col1\" >8473</td>\n",
       "            </tr>\n",
       "            <tr>\n",
       "                        <th id=\"T_d89c8_level0_row19\" class=\"row_heading level0 row19\" >19</th>\n",
       "                        <td id=\"T_d89c8_row19_col0\" class=\"data row19 col0\" >best</td>\n",
       "                        <td id=\"T_d89c8_row19_col1\" class=\"data row19 col1\" >8388</td>\n",
       "            </tr>\n",
       "    </tbody></table>"
      ],
      "text/plain": [
       "<pandas.io.formats.style.Styler at 0x18e07624bb0>"
      ]
     },
     "execution_count": 16,
     "metadata": {},
     "output_type": "execute_result"
    }
   ],
   "source": [
    "#MosT common words in good review\n",
    "top = Counter([item for row in good_review['review'] for item in row])\n",
    "temp_positive = pd.DataFrame(top.most_common(20))\n",
    "temp_positive.columns = ['Common_words','count']\n",
    "temp_positive.style.background_gradient(cmap='Greens')"
   ]
  },
  {
   "cell_type": "code",
   "execution_count": 17,
   "metadata": {
    "colab": {
     "base_uri": "https://localhost:8080/",
     "height": 676
    },
    "id": "db0o_mhA8D3e",
    "outputId": "6d486bdf-e878-46d6-fd8e-be71b3938d3a"
   },
   "outputs": [
    {
     "data": {
      "text/html": [
       "<style  type=\"text/css\" >\n",
       "#T_a4e86_row0_col1{\n",
       "            background-color:  #67000d;\n",
       "            color:  #f1f1f1;\n",
       "        }#T_a4e86_row1_col1{\n",
       "            background-color:  #dd2a25;\n",
       "            color:  #f1f1f1;\n",
       "        }#T_a4e86_row2_col1{\n",
       "            background-color:  #fc8565;\n",
       "            color:  #000000;\n",
       "        }#T_a4e86_row3_col1{\n",
       "            background-color:  #fca082;\n",
       "            color:  #000000;\n",
       "        }#T_a4e86_row4_col1{\n",
       "            background-color:  #fdd4c2;\n",
       "            color:  #000000;\n",
       "        }#T_a4e86_row5_col1,#T_a4e86_row6_col1{\n",
       "            background-color:  #fedaca;\n",
       "            color:  #000000;\n",
       "        }#T_a4e86_row7_col1{\n",
       "            background-color:  #fedfd0;\n",
       "            color:  #000000;\n",
       "        }#T_a4e86_row8_col1{\n",
       "            background-color:  #fee5d9;\n",
       "            color:  #000000;\n",
       "        }#T_a4e86_row9_col1{\n",
       "            background-color:  #fee7dc;\n",
       "            color:  #000000;\n",
       "        }#T_a4e86_row10_col1{\n",
       "            background-color:  #ffece4;\n",
       "            color:  #000000;\n",
       "        }#T_a4e86_row11_col1{\n",
       "            background-color:  #ffeee6;\n",
       "            color:  #000000;\n",
       "        }#T_a4e86_row12_col1,#T_a4e86_row13_col1,#T_a4e86_row14_col1{\n",
       "            background-color:  #ffefe8;\n",
       "            color:  #000000;\n",
       "        }#T_a4e86_row15_col1{\n",
       "            background-color:  #fff2ec;\n",
       "            color:  #000000;\n",
       "        }#T_a4e86_row16_col1,#T_a4e86_row17_col1{\n",
       "            background-color:  #fff3ed;\n",
       "            color:  #000000;\n",
       "        }#T_a4e86_row18_col1,#T_a4e86_row19_col1{\n",
       "            background-color:  #fff5f0;\n",
       "            color:  #000000;\n",
       "        }</style><table id=\"T_a4e86_\" ><thead>    <tr>        <th class=\"blank level0\" ></th>        <th class=\"col_heading level0 col0\" >Common_words</th>        <th class=\"col_heading level0 col1\" >count</th>    </tr></thead><tbody>\n",
       "                <tr>\n",
       "                        <th id=\"T_a4e86_level0_row0\" class=\"row_heading level0 row0\" >0</th>\n",
       "                        <td id=\"T_a4e86_row0_col0\" class=\"data row0 col0\" >movie</td>\n",
       "                        <td id=\"T_a4e86_row0_col1\" class=\"data row0 col1\" >48519</td>\n",
       "            </tr>\n",
       "            <tr>\n",
       "                        <th id=\"T_a4e86_level0_row1\" class=\"row_heading level0 row1\" >1</th>\n",
       "                        <td id=\"T_a4e86_row1_col0\" class=\"data row1 col0\" >film</td>\n",
       "                        <td id=\"T_a4e86_row1_col1\" class=\"data row1 col1\" >35865</td>\n",
       "            </tr>\n",
       "            <tr>\n",
       "                        <th id=\"T_a4e86_level0_row2\" class=\"row_heading level0 row2\" >2</th>\n",
       "                        <td id=\"T_a4e86_row2_col0\" class=\"data row2 col0\" >one</td>\n",
       "                        <td id=\"T_a4e86_row2_col1\" class=\"data row2 col1\" >25183</td>\n",
       "            </tr>\n",
       "            <tr>\n",
       "                        <th id=\"T_a4e86_level0_row3\" class=\"row_heading level0 row3\" >3</th>\n",
       "                        <td id=\"T_a4e86_row3_col0\" class=\"data row3 col0\" >like</td>\n",
       "                        <td id=\"T_a4e86_row3_col1\" class=\"data row3 col1\" >21882</td>\n",
       "            </tr>\n",
       "            <tr>\n",
       "                        <th id=\"T_a4e86_level0_row4\" class=\"row_heading level0 row4\" >4</th>\n",
       "                        <td id=\"T_a4e86_row4_col0\" class=\"data row4 col0\" >even</td>\n",
       "                        <td id=\"T_a4e86_row4_col1\" class=\"data row4 col1\" >15098</td>\n",
       "            </tr>\n",
       "            <tr>\n",
       "                        <th id=\"T_a4e86_level0_row5\" class=\"row_heading level0 row5\" >5</th>\n",
       "                        <td id=\"T_a4e86_row5_col0\" class=\"data row5 col0\" >bad</td>\n",
       "                        <td id=\"T_a4e86_row5_col1\" class=\"data row5 col1\" >14362</td>\n",
       "            </tr>\n",
       "            <tr>\n",
       "                        <th id=\"T_a4e86_level0_row6\" class=\"row_heading level0 row6\" >6</th>\n",
       "                        <td id=\"T_a4e86_row6_col0\" class=\"data row6 col0\" >good</td>\n",
       "                        <td id=\"T_a4e86_row6_col1\" class=\"data row6 col1\" >14340</td>\n",
       "            </tr>\n",
       "            <tr>\n",
       "                        <th id=\"T_a4e86_level0_row7\" class=\"row_heading level0 row7\" >7</th>\n",
       "                        <td id=\"T_a4e86_row7_col0\" class=\"data row7 col0\" >would</td>\n",
       "                        <td id=\"T_a4e86_row7_col1\" class=\"data row7 col1\" >13653</td>\n",
       "            </tr>\n",
       "            <tr>\n",
       "                        <th id=\"T_a4e86_level0_row8\" class=\"row_heading level0 row8\" >8</th>\n",
       "                        <td id=\"T_a4e86_row8_col0\" class=\"data row8 col0\" >really</td>\n",
       "                        <td id=\"T_a4e86_row8_col1\" class=\"data row8 col1\" >12293</td>\n",
       "            </tr>\n",
       "            <tr>\n",
       "                        <th id=\"T_a4e86_level0_row9\" class=\"row_heading level0 row9\" >9</th>\n",
       "                        <td id=\"T_a4e86_row9_col0\" class=\"data row9 col0\" >time</td>\n",
       "                        <td id=\"T_a4e86_row9_col1\" class=\"data row9 col1\" >11837</td>\n",
       "            </tr>\n",
       "            <tr>\n",
       "                        <th id=\"T_a4e86_level0_row10\" class=\"row_heading level0 row10\" >10</th>\n",
       "                        <td id=\"T_a4e86_row10_col0\" class=\"data row10 col0\" >see</td>\n",
       "                        <td id=\"T_a4e86_row10_col1\" class=\"data row10 col1\" >10654</td>\n",
       "            </tr>\n",
       "            <tr>\n",
       "                        <th id=\"T_a4e86_level0_row11\" class=\"row_heading level0 row11\" >11</th>\n",
       "                        <td id=\"T_a4e86_row11_col0\" class=\"data row11 col0\" >dont</td>\n",
       "                        <td id=\"T_a4e86_row11_col1\" class=\"data row11 col1\" >10255</td>\n",
       "            </tr>\n",
       "            <tr>\n",
       "                        <th id=\"T_a4e86_level0_row12\" class=\"row_heading level0 row12\" >12</th>\n",
       "                        <td id=\"T_a4e86_row12_col0\" class=\"data row12 col0\" >get</td>\n",
       "                        <td id=\"T_a4e86_row12_col1\" class=\"data row12 col1\" >10033</td>\n",
       "            </tr>\n",
       "            <tr>\n",
       "                        <th id=\"T_a4e86_level0_row13\" class=\"row_heading level0 row13\" >13</th>\n",
       "                        <td id=\"T_a4e86_row13_col0\" class=\"data row13 col0\" >much</td>\n",
       "                        <td id=\"T_a4e86_row13_col1\" class=\"data row13 col1\" >10014</td>\n",
       "            </tr>\n",
       "            <tr>\n",
       "                        <th id=\"T_a4e86_level0_row14\" class=\"row_heading level0 row14\" >14</th>\n",
       "                        <td id=\"T_a4e86_row14_col0\" class=\"data row14 col0\" >story</td>\n",
       "                        <td id=\"T_a4e86_row14_col1\" class=\"data row14 col1\" >9904</td>\n",
       "            </tr>\n",
       "            <tr>\n",
       "                        <th id=\"T_a4e86_level0_row15\" class=\"row_heading level0 row15\" >15</th>\n",
       "                        <td id=\"T_a4e86_row15_col0\" class=\"data row15 col0\" >people</td>\n",
       "                        <td id=\"T_a4e86_row15_col1\" class=\"data row15 col1\" >9237</td>\n",
       "            </tr>\n",
       "            <tr>\n",
       "                        <th id=\"T_a4e86_level0_row16\" class=\"row_heading level0 row16\" >16</th>\n",
       "                        <td id=\"T_a4e86_row16_col0\" class=\"data row16 col0\" >could</td>\n",
       "                        <td id=\"T_a4e86_row16_col1\" class=\"data row16 col1\" >9055</td>\n",
       "            </tr>\n",
       "            <tr>\n",
       "                        <th id=\"T_a4e86_level0_row17\" class=\"row_heading level0 row17\" >17</th>\n",
       "                        <td id=\"T_a4e86_row17_col0\" class=\"data row17 col0\" >make</td>\n",
       "                        <td id=\"T_a4e86_row17_col1\" class=\"data row17 col1\" >9015</td>\n",
       "            </tr>\n",
       "            <tr>\n",
       "                        <th id=\"T_a4e86_level0_row18\" class=\"row_heading level0 row18\" >18</th>\n",
       "                        <td id=\"T_a4e86_row18_col0\" class=\"data row18 col0\" >movies</td>\n",
       "                        <td id=\"T_a4e86_row18_col1\" class=\"data row18 col1\" >8505</td>\n",
       "            </tr>\n",
       "            <tr>\n",
       "                        <th id=\"T_a4e86_level0_row19\" class=\"row_heading level0 row19\" >19</th>\n",
       "                        <td id=\"T_a4e86_row19_col0\" class=\"data row19 col0\" >made</td>\n",
       "                        <td id=\"T_a4e86_row19_col1\" class=\"data row19 col1\" >8472</td>\n",
       "            </tr>\n",
       "    </tbody></table>"
      ],
      "text/plain": [
       "<pandas.io.formats.style.Styler at 0x18e07624400>"
      ]
     },
     "execution_count": 17,
     "metadata": {},
     "output_type": "execute_result"
    }
   ],
   "source": [
    "#MosT common words in bad review\n",
    "top = Counter([item for row in bad_review['review'] for item in row])\n",
    "temp_positive = pd.DataFrame(top.most_common(20))\n",
    "temp_positive.columns = ['Common_words','count']\n",
    "temp_positive.style.background_gradient(cmap='Reds')"
   ]
  },
  {
   "cell_type": "markdown",
   "metadata": {
    "id": "GMCwzDXPn-v_"
   },
   "source": [
    "## Feature Extraction"
   ]
  },
  {
   "cell_type": "code",
   "execution_count": 18,
   "metadata": {
    "id": "o-FnqLeon0CP"
   },
   "outputs": [],
   "source": [
    "def vectorize(train_text, test_text, isTfIdf=False, isBinary=False, ngram_min=1, ngram_max=1):\n",
    "  # create the transform\n",
    "  if (isTfIdf == False):\n",
    "    vectorizer = CountVectorizer(binary=isBinary,  ngram_range=(ngram_min,ngram_max))\n",
    "  else:\n",
    "    vectorizer = TfidfVectorizer(ngram_range=(ngram_min,ngram_max))\n",
    "\n",
    "  # tokenize and build vocab\n",
    "  vectorizer.fit(train_text)\n",
    "\n",
    "  # encode document\n",
    "  training_features = vectorizer.transform(train_text)\n",
    "  test_features = vectorizer.transform(test_text)\n",
    "  return training_features, test_features"
   ]
  },
  {
   "cell_type": "markdown",
   "metadata": {
    "id": "YCslnIKhn3XF"
   },
   "source": [
    "## Model Building"
   ]
  },
  {
   "cell_type": "code",
   "execution_count": 19,
   "metadata": {
    "id": "eYFZXok_8MYw"
   },
   "outputs": [],
   "source": [
    "# Split the data into training and testing data - 90% train and 10% test\n",
    "from sklearn.model_selection import train_test_split\n",
    "X_train, X_test, y_train, y_test  = train_test_split(df['review'], df['sentiment'], test_size = 0.1, random_state = 100)"
   ]
  },
  {
   "cell_type": "code",
   "execution_count": 20,
   "metadata": {
    "colab": {
     "base_uri": "https://localhost:8080/"
    },
    "id": "jNU_fIJ1AOvL",
    "outputId": "4b2690dd-e561-4f31-931d-3fe29cd8f376"
   },
   "outputs": [
    {
     "name": "stdout",
     "output_type": "stream",
     "text": [
      "(45000,)\n",
      "<class 'pandas.core.series.Series'>\n",
      "(5000,)\n",
      "<class 'pandas.core.series.Series'>\n",
      "(45000,)\n",
      "<class 'pandas.core.series.Series'>\n",
      "(5000,)\n",
      "<class 'pandas.core.series.Series'>\n"
     ]
    }
   ],
   "source": [
    "print(X_train.shape)\n",
    "print(type(X_train))\n",
    "print(X_test.shape)\n",
    "print(type(X_test))\n",
    "\n",
    "print(y_train.shape)\n",
    "print(type(y_train))\n",
    "print(y_test.shape)\n",
    "print(type(y_test))"
   ]
  },
  {
   "cell_type": "markdown",
   "metadata": {
    "id": "g8vA1gG1_XNw"
   },
   "source": []
  },
  {
   "cell_type": "code",
   "execution_count": 21,
   "metadata": {
    "colab": {
     "base_uri": "https://localhost:8080/"
    },
    "id": "Jpau-6rAkKOi",
    "outputId": "ee612fd5-f036-425c-cb50-f72de5389ad4"
   },
   "outputs": [
    {
     "data": {
      "text/plain": [
       "23756    [cant, really, remember, details, movie, excep...\n",
       "39754    [pleasantly, surprised, find, enjoyable, film,...\n",
       "32064    [brilliant, acting, excellent, plot, wonderful...\n",
       "17972    [went, along, movie, trepidation, original, ma...\n",
       "6130     [overall, film, ok, think, better, sepet, much...\n",
       "                               ...                        \n",
       "16304    [although, technically, advanced, film, seen, ...\n",
       "79       [film, took, surprise, make, habit, finding, l...\n",
       "12119    [im, sorry, even, tj, hookers, adrian, zmed, c...\n",
       "14147    [movie, considered, academy, award, enjoy, mov...\n",
       "38408    [talk, radio, sees, man, somewhat, accidentall...\n",
       "Name: review, Length: 45000, dtype: object"
      ]
     },
     "execution_count": 21,
     "metadata": {},
     "output_type": "execute_result"
    }
   ],
   "source": [
    "X_train"
   ]
  },
  {
   "cell_type": "code",
   "execution_count": 22,
   "metadata": {
    "id": "4v7xR3BqGMRt"
   },
   "outputs": [],
   "source": [
    "X_train = X_train.map(' '.join)\n",
    "X_test = X_test.map(' '.join)"
   ]
  },
  {
   "cell_type": "code",
   "execution_count": 23,
   "metadata": {
    "colab": {
     "base_uri": "https://localhost:8080/"
    },
    "id": "AeuLcrb9G4Jh",
    "outputId": "5eb06385-983a-484d-dedb-33ab0b3e1c47"
   },
   "outputs": [
    {
     "data": {
      "text/plain": [
       "4253     documentary homeless women interesting sense f...\n",
       "30076    well done whole movie grudge going around kill...\n",
       "48047    strange fate people looking discount bin dvd r...\n",
       "1666     goes especially lawyers cops puerto ricowhich ...\n",
       "30740    first explanation despite headline im giving f...\n",
       "                               ...                        \n",
       "9701     im usually inclined write reviews films dont t...\n",
       "1304     one best movies one favorites movie good actin...\n",
       "49735    star rating unmissable good okay could go meal...\n",
       "33756    one movies released type situation made think ...\n",
       "31171    ex wife saw intrigued trailer film waited come...\n",
       "Name: review, Length: 5000, dtype: object"
      ]
     },
     "execution_count": 23,
     "metadata": {},
     "output_type": "execute_result"
    }
   ],
   "source": [
    "X_test"
   ]
  },
  {
   "cell_type": "code",
   "execution_count": 24,
   "metadata": {
    "id": "YBvnPfBQbum5"
   },
   "outputs": [],
   "source": [
    "model = LinearSVC(max_iter=50000)"
   ]
  },
  {
   "cell_type": "markdown",
   "metadata": {
    "id": "b2pORFpCogLy"
   },
   "source": [
    "## Implement Different Feature Engineering techniques"
   ]
  },
  {
   "cell_type": "markdown",
   "metadata": {
    "id": "V243OdlSoNXw"
   },
   "source": [
    "### 1. Count Vectorizer"
   ]
  },
  {
   "cell_type": "code",
   "execution_count": 25,
   "metadata": {
    "colab": {
     "base_uri": "https://localhost:8080/"
    },
    "id": "lLjVfh-c6azG",
    "outputId": "780c292e-2450-4223-e393-28923e8e72f9"
   },
   "outputs": [
    {
     "name": "stdout",
     "output_type": "stream",
     "text": [
      "Test Accuracy for Count Vectorizer 0.8688\n"
     ]
    }
   ],
   "source": [
    "training_features, test_features =  vectorize(train_text=X_train, test_text=X_test)\n",
    "model.fit(training_features, y_train)\n",
    "y_pred = model.predict(test_features)\n",
    "acc = accuracy_score(y_test,y_pred)\n",
    "print(\"Test Accuracy for Count Vectorizer\", acc)"
   ]
  },
  {
   "cell_type": "markdown",
   "metadata": {
    "id": "vEWBqNc3oaHs"
   },
   "source": [
    "### 2. Count Vectorizer Binary = True"
   ]
  },
  {
   "cell_type": "code",
   "execution_count": null,
   "metadata": {},
   "outputs": [],
   "source": []
  },
  {
   "cell_type": "code",
   "execution_count": 26,
   "metadata": {
    "colab": {
     "base_uri": "https://localhost:8080/"
    },
    "id": "0ouFpTrQ51YK",
    "outputId": "55ebeed8-4af2-4dbe-dcc5-6ea90209b6a1"
   },
   "outputs": [
    {
     "name": "stdout",
     "output_type": "stream",
     "text": [
      "Test Accuracy for Count Vectorizer Binary=True 0.8732\n"
     ]
    }
   ],
   "source": [
    "training_features, test_features =  vectorize(train_text=X_train, test_text=X_test,isBinary=True)\n",
    "model.fit(training_features, y_train)\n",
    "y_pred = model.predict(test_features)\n",
    "acc = accuracy_score(y_test,y_pred)\n",
    "print(\"Test Accuracy for Count Vectorizer Binary=True\", acc)"
   ]
  },
  {
   "cell_type": "markdown",
   "metadata": {
    "id": "G5EBilFbop4V"
   },
   "source": [
    "### 3. Count Vectorizer n_gram range(1,2)"
   ]
  },
  {
   "cell_type": "code",
   "execution_count": 27,
   "metadata": {
    "colab": {
     "base_uri": "https://localhost:8080/"
    },
    "id": "5aCv7VwwC-wm",
    "outputId": "03d45fdb-7ac1-46c7-ec84-aa07c175f75e"
   },
   "outputs": [
    {
     "name": "stdout",
     "output_type": "stream",
     "text": [
      "Test Accuracy for Count Vectorizer n-gram range (1,2) 0.9026\n"
     ]
    }
   ],
   "source": [
    "training_features, test_features =  vectorize(train_text=X_train, test_text=X_test,ngram_min=1,ngram_max=2)\n",
    "model.fit(training_features, y_train)\n",
    "y_pred = model.predict(test_features)\n",
    "acc = accuracy_score(y_test,y_pred)\n",
    "print(\"Test Accuracy for Count Vectorizer n-gram range (1,2)\", acc)"
   ]
  },
  {
   "cell_type": "markdown",
   "metadata": {
    "id": "yinu-8zuo1Sr"
   },
   "source": [
    "### 4. Count Vectorizer n_gram range(1,3)"
   ]
  },
  {
   "cell_type": "code",
   "execution_count": 28,
   "metadata": {
    "colab": {
     "base_uri": "https://localhost:8080/"
    },
    "id": "MsQ8gaNk6xZx",
    "outputId": "46992bb5-ca82-4f4f-aaf1-27f95b54b43d"
   },
   "outputs": [
    {
     "name": "stdout",
     "output_type": "stream",
     "text": [
      "Test Accuracy for Count Vectorizer  n-gram range (1,3) 0.8992\n"
     ]
    }
   ],
   "source": [
    "training_features, test_features =  vectorize(train_text=X_train, test_text=X_test,ngram_min=1,ngram_max=3)\n",
    "model.fit(training_features, y_train)\n",
    "y_pred = model.predict(test_features)\n",
    "acc = accuracy_score(y_test,y_pred)\n",
    "print(\"Test Accuracy for Count Vectorizer  n-gram range (1,3)\", acc)"
   ]
  },
  {
   "cell_type": "markdown",
   "metadata": {
    "id": "O-nB5b9Xo4Nv"
   },
   "source": [
    "### 5. Count Vectorizer n_gram range(2,3)"
   ]
  },
  {
   "cell_type": "code",
   "execution_count": 29,
   "metadata": {
    "colab": {
     "base_uri": "https://localhost:8080/"
    },
    "id": "3E3Lik1fDHP-",
    "outputId": "41914ebb-5d8e-41f4-dd4e-28afab2615ba"
   },
   "outputs": [
    {
     "name": "stdout",
     "output_type": "stream",
     "text": [
      "Test Accuracy for Count Vectorizer  n-gram range (2,3) 0.862\n"
     ]
    }
   ],
   "source": [
    "training_features, test_features =  vectorize(train_text=X_train, test_text=X_test,ngram_min=2,ngram_max=3)\n",
    "model.fit(training_features, y_train)\n",
    "y_pred = model.predict(test_features)\n",
    "acc = accuracy_score(y_test,y_pred)\n",
    "print(\"Test Accuracy for Count Vectorizer  n-gram range (2,3)\", acc)"
   ]
  },
  {
   "cell_type": "markdown",
   "metadata": {
    "id": "GMudRtlgo9zj"
   },
   "source": [
    "### 6. Tf-Idf Vectorizer"
   ]
  },
  {
   "cell_type": "code",
   "execution_count": 30,
   "metadata": {
    "colab": {
     "base_uri": "https://localhost:8080/"
    },
    "id": "kStiu-YFDK52",
    "outputId": "16bdef60-6728-418f-9ba4-f911d0bc401f"
   },
   "outputs": [
    {
     "name": "stdout",
     "output_type": "stream",
     "text": [
      "Test Accuracy for Tf-Idf Vectorizer) 0.899\n"
     ]
    }
   ],
   "source": [
    "training_features, test_features =  vectorize(train_text=X_train, test_text=X_test,isTfIdf=True)\n",
    "model.fit(training_features, y_train)\n",
    "y_pred = model.predict(test_features)\n",
    "acc = accuracy_score(y_test,y_pred)\n",
    "print(\"Test Accuracy for Tf-Idf Vectorizer)\", acc)"
   ]
  },
  {
   "cell_type": "markdown",
   "metadata": {
    "id": "S9MxnC9wpG6G"
   },
   "source": [
    "### 7. Tf-Idf Vectorizer n_gram range(1,2)"
   ]
  },
  {
   "cell_type": "code",
   "execution_count": 31,
   "metadata": {
    "colab": {
     "base_uri": "https://localhost:8080/"
    },
    "id": "9n4qJJH7cSe_",
    "outputId": "b80e1aca-f07e-4dfb-f298-6b24d553cbe4"
   },
   "outputs": [
    {
     "name": "stdout",
     "output_type": "stream",
     "text": [
      "Test Accuracy for Tf-Idf Vectorizer  n-gram range (1,2) 0.911\n"
     ]
    }
   ],
   "source": [
    "training_features, test_features =  vectorize(train_text=X_train, test_text=X_test,isTfIdf=True, ngram_min=1,ngram_max=2)\n",
    "model.fit(training_features, y_train)\n",
    "y_pred = model.predict(test_features)\n",
    "acc = accuracy_score(y_test,y_pred)\n",
    "print(\"Test Accuracy for Tf-Idf Vectorizer  n-gram range (1,2)\", acc)"
   ]
  },
  {
   "cell_type": "markdown",
   "metadata": {
    "id": "FAQSKo3vpMg_"
   },
   "source": [
    "### 8. Tf-Idf Vectorizer n_gram range(1,3)"
   ]
  },
  {
   "cell_type": "code",
   "execution_count": 32,
   "metadata": {
    "colab": {
     "base_uri": "https://localhost:8080/"
    },
    "id": "44qnKzzLci98",
    "outputId": "23300a01-b9ef-45f0-bb74-1498a49cb6ea"
   },
   "outputs": [
    {
     "name": "stdout",
     "output_type": "stream",
     "text": [
      "Test Accuracy for Tf-Idf Vectorizer  n-gram range (1,3) 0.9044\n"
     ]
    }
   ],
   "source": [
    "training_features, test_features =  vectorize(train_text=X_train, test_text=X_test,isTfIdf=True, ngram_min=1,ngram_max=3)\n",
    "model.fit(training_features, y_train)\n",
    "y_pred = model.predict(test_features)\n",
    "acc = accuracy_score(y_test,y_pred)\n",
    "print(\"Test Accuracy for Tf-Idf Vectorizer  n-gram range (1,3)\", acc)"
   ]
  },
  {
   "cell_type": "markdown",
   "metadata": {
    "id": "iXpsI1QupPYi"
   },
   "source": [
    "### 9. Tf-Idf Vectorizer n_gram range(2,3)"
   ]
  },
  {
   "cell_type": "markdown",
   "metadata": {
    "colab": {
     "base_uri": "https://localhost:8080/"
    },
    "id": "yeou23D5h2J_",
    "outputId": "b4699fc3-b6d3-43a4-ed10-693cf9b5a400"
   },
   "source": [
    "training_features, test_features =  vectorize(train_text=X_train, test_text=X_test,isTfIdf=True, ngram_min=2,ngram_max=3)\n",
    "model.fit(training_features, y_train)\n",
    "y_pred = model.predict(test_features)\n",
    "acc = accuracy_score(y_test,y_pred)\n",
    "print(\"Test Accuracy for Tf-Idf Vectorizer  n-gram range (2,3)\", acc)"
   ]
  },
  {
   "cell_type": "markdown",
   "metadata": {},
   "source": [
    "### 10. Word2Vec"
   ]
  },
  {
   "cell_type": "code",
   "execution_count": 33,
   "metadata": {},
   "outputs": [],
   "source": [
    "from gensim.models import Word2Vec, KeyedVectors\n",
    "from sklearn.decomposition import PCA\n",
    "model_word2vec = KeyedVectors.load_word2vec_format(\"C:\\\\Users\\\\srivi\\\\Downloads\\\\GoogleNews-vectors-negative300.bin.gz\", binary=True)"
   ]
  },
  {
   "cell_type": "code",
   "execution_count": 34,
   "metadata": {},
   "outputs": [],
   "source": [
    "def transform(text):\n",
    "    vector = np.zeros((300))\n",
    "    for i in text.split():\n",
    "        if i not in model_word2vec.key_to_index.keys():\n",
    "            pass\n",
    "        else:\n",
    "            vector = vector + model_word2vec[i]\n",
    "    return vector"
   ]
  },
  {
   "cell_type": "code",
   "execution_count": 35,
   "metadata": {},
   "outputs": [],
   "source": [
    "training_features = X_train.apply(lambda x : transform(x))\n"
   ]
  },
  {
   "cell_type": "code",
   "execution_count": 36,
   "metadata": {},
   "outputs": [],
   "source": [
    "training_features = np.array(training_features.values.tolist())"
   ]
  },
  {
   "cell_type": "code",
   "execution_count": 37,
   "metadata": {},
   "outputs": [
    {
     "data": {
      "text/plain": [
       "numpy.ndarray"
      ]
     },
     "execution_count": 37,
     "metadata": {},
     "output_type": "execute_result"
    }
   ],
   "source": [
    "type(training_features)"
   ]
  },
  {
   "cell_type": "code",
   "execution_count": 38,
   "metadata": {},
   "outputs": [],
   "source": [
    "test_features = X_test.apply(lambda x : transform(x))\n",
    "test_features = np.array(test_features.values.tolist())"
   ]
  },
  {
   "cell_type": "code",
   "execution_count": 39,
   "metadata": {},
   "outputs": [
    {
     "data": {
      "text/plain": [
       "array([[  1.93112183,   2.76042175,  -1.60507202, ...,  -1.15023804,\n",
       "          2.44607544,   0.15664673],\n",
       "       [  4.27078247,   2.1337204 ,   3.84022522, ...,  -6.5190506 ,\n",
       "          1.6485672 ,  -4.11095428],\n",
       "       [ 16.4914856 ,   9.68110657,   3.12596893, ..., -18.70817184,\n",
       "          8.98594666,   1.48474884],\n",
       "       ...,\n",
       "       [  7.73562622,   6.08436584,  -1.22524643, ...,  -4.51039124,\n",
       "          4.4916687 ,   1.74394989],\n",
       "       [  3.85224915,   2.48638916,   1.05357361, ...,  -4.47038269,\n",
       "          3.71443939,  -3.07047272],\n",
       "       [  6.73110962,   6.09115601,   0.35498047, ...,  -4.61856461,\n",
       "          7.79785156,   0.54196167]])"
      ]
     },
     "execution_count": 39,
     "metadata": {},
     "output_type": "execute_result"
    }
   ],
   "source": [
    "test_features"
   ]
  },
  {
   "cell_type": "code",
   "execution_count": 40,
   "metadata": {},
   "outputs": [
    {
     "data": {
      "text/plain": [
       "23756    negative\n",
       "39754    positive\n",
       "32064    negative\n",
       "17972    negative\n",
       "6130     positive\n",
       "           ...   \n",
       "16304    positive\n",
       "79       positive\n",
       "12119    negative\n",
       "14147    positive\n",
       "38408    positive\n",
       "Name: sentiment, Length: 45000, dtype: object"
      ]
     },
     "execution_count": 40,
     "metadata": {},
     "output_type": "execute_result"
    }
   ],
   "source": [
    "y_train"
   ]
  },
  {
   "cell_type": "code",
   "execution_count": null,
   "metadata": {},
   "outputs": [],
   "source": [
    "model.fit(training_features, y_train)\n",
    "y_pred = model.predict(test_features)\n",
    "acc = accuracy_score(y_test,y_pred)\n",
    "print(\"Test Accuracy for word2vec\", acc)"
   ]
  },
  {
   "cell_type": "code",
   "execution_count": null,
   "metadata": {},
   "outputs": [],
   "source": []
  },
  {
   "cell_type": "markdown",
   "metadata": {
    "id": "lze6mYGFVfqg"
   },
   "source": [
    "## Conclusion"
   ]
  },
  {
   "cell_type": "code",
   "execution_count": null,
   "metadata": {},
   "outputs": [],
   "source": []
  },
  {
   "cell_type": "markdown",
   "metadata": {
    "id": "T9NmTKxdVjhq"
   },
   "source": [
    "Among the different feature extraction methods, Tf-Idf Vectorizer with n-gram range(1,2) performs best with the test accuracy of 91 %."
   ]
  }
 ],
 "metadata": {
  "colab": {
   "collapsed_sections": [],
   "name": "NLP_IMDB_Sentiment_Analysis_Feature_Extraction.ipynb",
   "provenance": []
  },
  "kernelspec": {
   "display_name": "Python 3",
   "language": "python",
   "name": "python3"
  },
  "language_info": {
   "codemirror_mode": {
    "name": "ipython",
    "version": 3
   },
   "file_extension": ".py",
   "mimetype": "text/x-python",
   "name": "python",
   "nbconvert_exporter": "python",
   "pygments_lexer": "ipython3",
   "version": "3.8.8"
  }
 },
 "nbformat": 4,
 "nbformat_minor": 1
}
